{
 "cells": [
  {
   "cell_type": "markdown",
   "id": "42322d12-e0c7-4903-9f11-2ad66b18b3e3",
   "metadata": {},
   "source": [
    "## Comparing Changes in Geom Areas"
   ]
  },
  {
   "cell_type": "markdown",
   "id": "04cb37f4-f865-44f6-9320-aa52cfd98803",
   "metadata": {
    "tags": []
   },
   "source": [
    "### US/Canada level 1"
   ]
  },
  {
   "cell_type": "code",
   "execution_count": 1,
   "id": "bda8d4fa-48a6-4e4d-80e5-ea1dc3ed970d",
   "metadata": {},
   "outputs": [],
   "source": [
    "import geoplanar\n",
    "import geopandas as gpd\n",
    "import numpy as np"
   ]
  },
  {
   "cell_type": "code",
   "execution_count": 2,
   "id": "d400b2ec-c83f-42de-9bbc-40ec31cf9869",
   "metadata": {
    "tags": []
   },
   "outputs": [],
   "source": [
    "import warnings\n",
    "warnings.filterwarnings(\"ignore\")"
   ]
  },
  {
   "cell_type": "code",
   "execution_count": 3,
   "id": "3b860a0f-bd00-4dd8-bf0a-4e22f83715ac",
   "metadata": {},
   "outputs": [],
   "source": [
    "import sys\n",
    "import os\n",
    "sys.path.append(os.path.abspath('..'))\n",
    "import libpysal"
   ]
  },
  {
   "cell_type": "code",
   "execution_count": 4,
   "id": "faa9acbc-149f-4f44-a643-3c63e5cecc0b",
   "metadata": {},
   "outputs": [],
   "source": [
    "import pandas as pd"
   ]
  },
  {
   "cell_type": "markdown",
   "id": "d853180e-cfd5-49ed-bac3-f7bd1fc783c0",
   "metadata": {},
   "source": [
    "### Data Retrieval"
   ]
  },
  {
   "cell_type": "code",
   "execution_count": 5,
   "id": "b787bda5-ebc5-4dd0-9e3d-242850158348",
   "metadata": {},
   "outputs": [],
   "source": [
    "npe = gpd.read_parquet(\"nonplanar_enforced.parquet\") #non planar enforced data\n"
   ]
  },
  {
   "cell_type": "code",
   "execution_count": 6,
   "id": "ea0bb2be-6851-487c-8ef1-3e4d8d112e14",
   "metadata": {
    "tags": []
   },
   "outputs": [],
   "source": [
    "pe = gpd.read_parquet(\"planar_enforced.parquet\") # planar enforced\n"
   ]
  },
  {
   "cell_type": "code",
   "execution_count": 7,
   "id": "e032fcfb-cc00-48d4-a82a-8742c5085fb3",
   "metadata": {},
   "outputs": [],
   "source": [
    "npe = npe.set_crs('epsg:3857')\n",
    "pe= pe.set_crs('epsg:3857')"
   ]
  },
  {
   "cell_type": "markdown",
   "id": "7b7a5a92-0114-4f8c-8271-5c90be097355",
   "metadata": {},
   "source": [
    "##  Area of Non planar Enforced data and planar enforced data"
   ]
  },
  {
   "cell_type": "markdown",
   "id": "fd73e633-8ca0-41eb-abfb-067ba2626ab2",
   "metadata": {},
   "source": [
    "\n",
    "- Check all areas before and after geoplanar\n",
    "- Compare /Contrast\n",
    "- Explicitly state which ones changed"
   ]
  },
  {
   "cell_type": "code",
   "execution_count": 8,
   "id": "13ba8d99-6002-40a4-ae72-78d0add42d12",
   "metadata": {},
   "outputs": [],
   "source": [
    "non_planar_enforced_area = npe\n",
    "planar_enforced_area = pe"
   ]
  },
  {
   "cell_type": "code",
   "execution_count": 9,
   "id": "aa9729b8-9789-404d-9a81-a4c2dc2daa2f",
   "metadata": {},
   "outputs": [],
   "source": [
    "non_planar_enforced_area = non_planar_enforced_area.set_crs('epsg:3857')\n",
    "planar_enforced_area= planar_enforced_area.set_crs('epsg:3857')"
   ]
  },
  {
   "cell_type": "code",
   "execution_count": 10,
   "id": "44b64a29-04b7-462e-a8ed-8ff939bad2bf",
   "metadata": {},
   "outputs": [],
   "source": [
    "non_planar_enforced_area[\"area\"] = non_planar_enforced_area['geometry'].area"
   ]
  },
  {
   "cell_type": "code",
   "execution_count": 11,
   "id": "62784d48-d863-4a28-af34-27992502570a",
   "metadata": {},
   "outputs": [
    {
     "name": "stdout",
     "output_type": "stream",
     "text": [
      "0      15.543974\n",
      "1       0.000533\n",
      "2       0.058636\n",
      "3      20.749831\n",
      "4      45.131677\n",
      "         ...    \n",
      "59    136.017824\n",
      "60      0.670316\n",
      "61    206.184961\n",
      "62     90.424490\n",
      "63     87.600875\n",
      "Length: 64, dtype: float64\n"
     ]
    }
   ],
   "source": [
    "print(non_planar_enforced_area.area)"
   ]
  },
  {
   "cell_type": "code",
   "execution_count": 12,
   "id": "2666cd33-a208-4127-ab2e-f4c03c312349",
   "metadata": {},
   "outputs": [],
   "source": [
    "planar_enforced_area[\"area\"] = planar_enforced_area['geometry'].area"
   ]
  },
  {
   "cell_type": "code",
   "execution_count": 13,
   "id": "0e151e12-36f7-47e4-95d0-3719265ccea9",
   "metadata": {},
   "outputs": [
    {
     "name": "stdout",
     "output_type": "stream",
     "text": [
      "0      15.543974\n",
      "1       0.000533\n",
      "2       0.058636\n",
      "3      20.750731\n",
      "4      45.131687\n",
      "         ...    \n",
      "59    136.010019\n",
      "60      0.670316\n",
      "61    206.177792\n",
      "62     90.424490\n",
      "63     87.600875\n",
      "Length: 64, dtype: float64\n"
     ]
    }
   ],
   "source": [
    "print(planar_enforced_area.area)"
   ]
  },
  {
   "cell_type": "markdown",
   "id": "98130b97-bc6a-4a84-a44f-5487a91fa990",
   "metadata": {},
   "source": [
    "##  Comparison of Areas"
   ]
  },
  {
   "cell_type": "code",
   "execution_count": 14,
   "id": "71514e73-ba6d-4fa6-9860-1cf8ae98d8dc",
   "metadata": {},
   "outputs": [
    {
     "data": {
      "text/plain": [
       "True     43\n",
       "False    21\n",
       "Name: area, dtype: int64"
      ]
     },
     "execution_count": 14,
     "metadata": {},
     "output_type": "execute_result"
    }
   ],
   "source": [
    "planar_enforced_area['area'].isin(non_planar_enforced_area['area']).value_counts()"
   ]
  },
  {
   "cell_type": "markdown",
   "id": "f244326e-ad7e-4371-a2e1-7c9543bcfab2",
   "metadata": {},
   "source": [
    "### Identify the Areas of Geom  SAME for both data sets"
   ]
  },
  {
   "cell_type": "code",
   "execution_count": 15,
   "id": "c78ec8e8-1078-44a8-ad28-44105db70ec1",
   "metadata": {
    "tags": []
   },
   "outputs": [],
   "source": [
    "df_common = planar_enforced_area.loc[planar_enforced_area['area'].isin(non_planar_enforced_area['area'])]"
   ]
  },
  {
   "cell_type": "code",
   "execution_count": 16,
   "id": "96682813-3e97-4e4d-a949-82058eb2f91a",
   "metadata": {},
   "outputs": [
    {
     "data": {
      "text/plain": [
       "<AxesSubplot:>"
      ]
     },
     "execution_count": 16,
     "metadata": {},
     "output_type": "execute_result"
    },
    {
     "data": {
      "image/png": "[encoded data removed]",
      "text/plain": [
       "<Figure size 864x864 with 1 Axes>"
      ]
     },
     "metadata": {
      "needs_background": "light"
     },
     "output_type": "display_data"
    }
   ],
   "source": [
    "df_common.plot(column='COUNTRY',cmap='Spectral', figsize=(12, 12)) # ploting the polygons that have areas equal before and after groplanar\n"
   ]
  },
  {
   "cell_type": "markdown",
   "id": "bc99d705-f377-49c0-8dbe-ab2b0ce19085",
   "metadata": {
    "tags": []
   },
   "source": [
    "## Putting the areas into a separate dataframe"
   ]
  },
  {
   "cell_type": "code",
   "execution_count": 17,
   "id": "0758b0c3-7ef8-49ef-b8f9-e16570970318",
   "metadata": {},
   "outputs": [],
   "source": [
    "data = planar_enforced_area.area\n",
    "data2 = non_planar_enforced_area.area\n",
    "df = pd.DataFrame(data , columns = ['planar enforced area'])\n"
   ]
  },
  {
   "cell_type": "code",
   "execution_count": 18,
   "id": "9025a32d-8af1-4eaf-bb0f-ad67dbb346ac",
   "metadata": {},
   "outputs": [],
   "source": [
    "df[\"non planar enforced area\"]= non_planar_enforced_area.area"
   ]
  },
  {
   "cell_type": "code",
   "execution_count": 19,
   "id": "fb6e7858-a7f0-4402-98b7-abfff5302c03",
   "metadata": {},
   "outputs": [],
   "source": [
    "df['difference'] = df['planar enforced area'] - df['non planar enforced area'] #taking the difference"
   ]
  },
  {
   "cell_type": "code",
   "execution_count": 48,
   "id": "b000a306-066d-499f-8053-f707ef60ea69",
   "metadata": {},
   "outputs": [
    {
     "data": {
      "text/html": [
       "<div>\n",
       "<style scoped>\n",
       "    .dataframe tbody tr th:only-of-type {\n",
       "        vertical-align: middle;\n",
       "    }\n",
       "\n",
       "    .dataframe tbody tr th {\n",
       "        vertical-align: top;\n",
       "    }\n",
       "\n",
       "    .dataframe thead th {\n",
       "        text-align: right;\n",
       "    }\n",
       "</style>\n",
       "<table border=\"1\" class=\"dataframe\">\n",
       "  <thead>\n",
       "    <tr style=\"text-align: right;\">\n",
       "      <th></th>\n",
       "      <th>planar enforced area</th>\n",
       "      <th>non planar enforced area</th>\n",
       "      <th>difference</th>\n",
       "    </tr>\n",
       "  </thead>\n",
       "  <tbody>\n",
       "    <tr>\n",
       "      <th>44</th>\n",
       "      <td>11.870990</td>\n",
       "      <td>11.870990</td>\n",
       "      <td>0.000000e+00</td>\n",
       "    </tr>\n",
       "    <tr>\n",
       "      <th>45</th>\n",
       "      <td>14.598796</td>\n",
       "      <td>14.598796</td>\n",
       "      <td>0.000000e+00</td>\n",
       "    </tr>\n",
       "    <tr>\n",
       "      <th>46</th>\n",
       "      <td>7.794397</td>\n",
       "      <td>7.794397</td>\n",
       "      <td>0.000000e+00</td>\n",
       "    </tr>\n",
       "    <tr>\n",
       "      <th>47</th>\n",
       "      <td>13.517338</td>\n",
       "      <td>13.517338</td>\n",
       "      <td>0.000000e+00</td>\n",
       "    </tr>\n",
       "    <tr>\n",
       "      <th>48</th>\n",
       "      <td>11.224646</td>\n",
       "      <td>11.224646</td>\n",
       "      <td>0.000000e+00</td>\n",
       "    </tr>\n",
       "    <tr>\n",
       "      <th>49</th>\n",
       "      <td>13.347713</td>\n",
       "      <td>13.347713</td>\n",
       "      <td>0.000000e+00</td>\n",
       "    </tr>\n",
       "    <tr>\n",
       "      <th>50</th>\n",
       "      <td>16.927959</td>\n",
       "      <td>16.927959</td>\n",
       "      <td>0.000000e+00</td>\n",
       "    </tr>\n",
       "    <tr>\n",
       "      <th>51</th>\n",
       "      <td>93.614624</td>\n",
       "      <td>93.614624</td>\n",
       "      <td>1.136868e-12</td>\n",
       "    </tr>\n",
       "    <tr>\n",
       "      <th>52</th>\n",
       "      <td>132.618869</td>\n",
       "      <td>132.618886</td>\n",
       "      <td>-1.625585e-05</td>\n",
       "    </tr>\n",
       "    <tr>\n",
       "      <th>53</th>\n",
       "      <td>91.183156</td>\n",
       "      <td>91.184485</td>\n",
       "      <td>-1.328786e-03</td>\n",
       "    </tr>\n",
       "    <tr>\n",
       "      <th>54</th>\n",
       "      <td>8.585884</td>\n",
       "      <td>8.570124</td>\n",
       "      <td>1.576040e-02</td>\n",
       "    </tr>\n",
       "    <tr>\n",
       "      <th>55</th>\n",
       "      <td>54.460707</td>\n",
       "      <td>54.460707</td>\n",
       "      <td>0.000000e+00</td>\n",
       "    </tr>\n",
       "    <tr>\n",
       "      <th>56</th>\n",
       "      <td>269.885033</td>\n",
       "      <td>269.885033</td>\n",
       "      <td>-1.136868e-13</td>\n",
       "    </tr>\n",
       "    <tr>\n",
       "      <th>57</th>\n",
       "      <td>6.349063</td>\n",
       "      <td>6.349063</td>\n",
       "      <td>0.000000e+00</td>\n",
       "    </tr>\n",
       "    <tr>\n",
       "      <th>58</th>\n",
       "      <td>515.432543</td>\n",
       "      <td>515.432543</td>\n",
       "      <td>-1.513172e-09</td>\n",
       "    </tr>\n",
       "    <tr>\n",
       "      <th>59</th>\n",
       "      <td>136.010019</td>\n",
       "      <td>136.017824</td>\n",
       "      <td>-7.805534e-03</td>\n",
       "    </tr>\n",
       "    <tr>\n",
       "      <th>60</th>\n",
       "      <td>0.670316</td>\n",
       "      <td>0.670316</td>\n",
       "      <td>0.000000e+00</td>\n",
       "    </tr>\n",
       "    <tr>\n",
       "      <th>61</th>\n",
       "      <td>206.177792</td>\n",
       "      <td>206.184961</td>\n",
       "      <td>-7.168346e-03</td>\n",
       "    </tr>\n",
       "    <tr>\n",
       "      <th>62</th>\n",
       "      <td>90.424490</td>\n",
       "      <td>90.424490</td>\n",
       "      <td>-1.065814e-12</td>\n",
       "    </tr>\n",
       "    <tr>\n",
       "      <th>63</th>\n",
       "      <td>87.600875</td>\n",
       "      <td>87.600875</td>\n",
       "      <td>0.000000e+00</td>\n",
       "    </tr>\n",
       "  </tbody>\n",
       "</table>\n",
       "</div>"
      ],
      "text/plain": [
       "    planar enforced area  non planar enforced area    difference\n",
       "44             11.870990                 11.870990  0.000000e+00\n",
       "45             14.598796                 14.598796  0.000000e+00\n",
       "46              7.794397                  7.794397  0.000000e+00\n",
       "47             13.517338                 13.517338  0.000000e+00\n",
       "48             11.224646                 11.224646  0.000000e+00\n",
       "49             13.347713                 13.347713  0.000000e+00\n",
       "50             16.927959                 16.927959  0.000000e+00\n",
       "51             93.614624                 93.614624  1.136868e-12\n",
       "52            132.618869                132.618886 -1.625585e-05\n",
       "53             91.183156                 91.184485 -1.328786e-03\n",
       "54              8.585884                  8.570124  1.576040e-02\n",
       "55             54.460707                 54.460707  0.000000e+00\n",
       "56            269.885033                269.885033 -1.136868e-13\n",
       "57              6.349063                  6.349063  0.000000e+00\n",
       "58            515.432543                515.432543 -1.513172e-09\n",
       "59            136.010019                136.017824 -7.805534e-03\n",
       "60              0.670316                  0.670316  0.000000e+00\n",
       "61            206.177792                206.184961 -7.168346e-03\n",
       "62             90.424490                 90.424490 -1.065814e-12\n",
       "63             87.600875                 87.600875  0.000000e+00"
      ]
     },
     "execution_count": 48,
     "metadata": {},
     "output_type": "execute_result"
    }
   ],
   "source": [
    "df.tail(20)"
   ]
  },
  {
   "cell_type": "markdown",
   "id": "a66583bc-e4ef-4e53-b423-ecff9552304d",
   "metadata": {},
   "source": [
    "### Ratio of PE and NPE AREAS"
   ]
  },
  {
   "cell_type": "code",
   "execution_count": 27,
   "id": "73409bc0-b331-4590-8786-715903e5d377",
   "metadata": {},
   "outputs": [
    {
     "data": {
      "text/html": [
       "<div>\n",
       "<style scoped>\n",
       "    .dataframe tbody tr th:only-of-type {\n",
       "        vertical-align: middle;\n",
       "    }\n",
       "\n",
       "    .dataframe tbody tr th {\n",
       "        vertical-align: top;\n",
       "    }\n",
       "\n",
       "    .dataframe thead th {\n",
       "        text-align: right;\n",
       "    }\n",
       "</style>\n",
       "<table border=\"1\" class=\"dataframe\">\n",
       "  <thead>\n",
       "    <tr style=\"text-align: right;\">\n",
       "      <th></th>\n",
       "      <th>planar enforced area</th>\n",
       "      <th>non planar enforced area</th>\n",
       "      <th>difference</th>\n",
       "      <th>pe_area_over_npe_area</th>\n",
       "    </tr>\n",
       "  </thead>\n",
       "  <tbody>\n",
       "    <tr>\n",
       "      <th>0</th>\n",
       "      <td>15.543974</td>\n",
       "      <td>15.543974</td>\n",
       "      <td>7.105427e-15</td>\n",
       "      <td>1.000000</td>\n",
       "    </tr>\n",
       "    <tr>\n",
       "      <th>1</th>\n",
       "      <td>0.000533</td>\n",
       "      <td>0.000533</td>\n",
       "      <td>0.000000e+00</td>\n",
       "      <td>1.000000</td>\n",
       "    </tr>\n",
       "    <tr>\n",
       "      <th>2</th>\n",
       "      <td>0.058636</td>\n",
       "      <td>0.058636</td>\n",
       "      <td>0.000000e+00</td>\n",
       "      <td>1.000000</td>\n",
       "    </tr>\n",
       "    <tr>\n",
       "      <th>3</th>\n",
       "      <td>20.750731</td>\n",
       "      <td>20.749831</td>\n",
       "      <td>8.999905e-04</td>\n",
       "      <td>1.000043</td>\n",
       "    </tr>\n",
       "    <tr>\n",
       "      <th>4</th>\n",
       "      <td>45.131687</td>\n",
       "      <td>45.131677</td>\n",
       "      <td>9.660331e-06</td>\n",
       "      <td>1.000000</td>\n",
       "    </tr>\n",
       "    <tr>\n",
       "      <th>...</th>\n",
       "      <td>...</td>\n",
       "      <td>...</td>\n",
       "      <td>...</td>\n",
       "      <td>...</td>\n",
       "    </tr>\n",
       "    <tr>\n",
       "      <th>59</th>\n",
       "      <td>136.010019</td>\n",
       "      <td>136.017824</td>\n",
       "      <td>-7.805534e-03</td>\n",
       "      <td>0.999943</td>\n",
       "    </tr>\n",
       "    <tr>\n",
       "      <th>60</th>\n",
       "      <td>0.670316</td>\n",
       "      <td>0.670316</td>\n",
       "      <td>0.000000e+00</td>\n",
       "      <td>1.000000</td>\n",
       "    </tr>\n",
       "    <tr>\n",
       "      <th>61</th>\n",
       "      <td>206.177792</td>\n",
       "      <td>206.184961</td>\n",
       "      <td>-7.168346e-03</td>\n",
       "      <td>0.999965</td>\n",
       "    </tr>\n",
       "    <tr>\n",
       "      <th>62</th>\n",
       "      <td>90.424490</td>\n",
       "      <td>90.424490</td>\n",
       "      <td>-1.065814e-12</td>\n",
       "      <td>1.000000</td>\n",
       "    </tr>\n",
       "    <tr>\n",
       "      <th>63</th>\n",
       "      <td>87.600875</td>\n",
       "      <td>87.600875</td>\n",
       "      <td>0.000000e+00</td>\n",
       "      <td>1.000000</td>\n",
       "    </tr>\n",
       "  </tbody>\n",
       "</table>\n",
       "<p>64 rows × 4 columns</p>\n",
       "</div>"
      ],
      "text/plain": [
       "    planar enforced area  non planar enforced area    difference  \\\n",
       "0              15.543974                 15.543974  7.105427e-15   \n",
       "1               0.000533                  0.000533  0.000000e+00   \n",
       "2               0.058636                  0.058636  0.000000e+00   \n",
       "3              20.750731                 20.749831  8.999905e-04   \n",
       "4              45.131687                 45.131677  9.660331e-06   \n",
       "..                   ...                       ...           ...   \n",
       "59            136.010019                136.017824 -7.805534e-03   \n",
       "60              0.670316                  0.670316  0.000000e+00   \n",
       "61            206.177792                206.184961 -7.168346e-03   \n",
       "62             90.424490                 90.424490 -1.065814e-12   \n",
       "63             87.600875                 87.600875  0.000000e+00   \n",
       "\n",
       "    pe_area_over_npe_area  \n",
       "0                1.000000  \n",
       "1                1.000000  \n",
       "2                1.000000  \n",
       "3                1.000043  \n",
       "4                1.000000  \n",
       "..                    ...  \n",
       "59               0.999943  \n",
       "60               1.000000  \n",
       "61               0.999965  \n",
       "62               1.000000  \n",
       "63               1.000000  \n",
       "\n",
       "[64 rows x 4 columns]"
      ]
     },
     "execution_count": 27,
     "metadata": {},
     "output_type": "execute_result"
    }
   ],
   "source": [
    "df['pe_area_over_npe_area'] = df['planar enforced area'] / df['non planar enforced area']\n",
    "df"
   ]
  },
  {
   "cell_type": "markdown",
   "id": "f232e478-3b2c-4227-b2c0-b0375f757f2e",
   "metadata": {},
   "source": [
    "### Subset Area Ratio greater then 1"
   ]
  },
  {
   "cell_type": "code",
   "execution_count": 28,
   "id": "de60ad8a-c706-4864-91d6-d427b8032891",
   "metadata": {},
   "outputs": [
    {
     "data": {
      "text/plain": [
       "(14, 4)"
      ]
     },
     "execution_count": 28,
     "metadata": {},
     "output_type": "execute_result"
    }
   ],
   "source": [
    "df2 = df[df.pe_area_over_npe_area > 1.000000] # subset to look at areas increased\n",
    "df2.shape"
   ]
  },
  {
   "cell_type": "code",
   "execution_count": 29,
   "id": "0fa81fce-35b8-4c73-999d-b5b4cbf85990",
   "metadata": {},
   "outputs": [
    {
     "data": {
      "text/plain": [
       "<AxesSubplot:>"
      ]
     },
     "execution_count": 29,
     "metadata": {},
     "output_type": "execute_result"
    },
    {
     "data": {
      "text/plain": [
       "<Figure size 432x288 with 0 Axes>"
      ]
     },
     "metadata": {},
     "output_type": "display_data"
    },
    {
     "data": {
      "image/png": "[encoded data removed]",
      "text/plain": [
       "<Figure size 360x360 with 1 Axes>"
      ]
     },
     "metadata": {
      "needs_background": "light"
     },
     "output_type": "display_data"
    }
   ],
   "source": [
    "import matplotlib.pyplot as plt\n",
    "plt.figure(); # plotting ratio of area>1 \n",
    "df2[['pe_area_over_npe_area' ]].plot.bar(figsize=(5, 5))"
   ]
  },
  {
   "cell_type": "markdown",
   "id": "fa34d3d6-9a1d-4e5d-b800-90e4f202c32d",
   "metadata": {},
   "source": [
    "### Subset Area Ratio less then 1"
   ]
  },
  {
   "cell_type": "code",
   "execution_count": 30,
   "id": "f7ec8168-a569-4911-8c34-99a1130462f7",
   "metadata": {},
   "outputs": [
    {
     "data": {
      "text/plain": [
       "(7, 4)"
      ]
     },
     "execution_count": 30,
     "metadata": {},
     "output_type": "execute_result"
    }
   ],
   "source": [
    "df3 = df[df.pe_area_over_npe_area < 1.000000]\n",
    "df3.shape # subset to look at areas decreased"
   ]
  },
  {
   "cell_type": "code",
   "execution_count": 31,
   "id": "52bb204f-5c7a-4cbf-a51d-2eb67010d97f",
   "metadata": {},
   "outputs": [
    {
     "data": {
      "text/plain": [
       "<AxesSubplot:>"
      ]
     },
     "execution_count": 31,
     "metadata": {},
     "output_type": "execute_result"
    },
    {
     "data": {
      "text/plain": [
       "<Figure size 432x288 with 0 Axes>"
      ]
     },
     "metadata": {},
     "output_type": "display_data"
    },
    {
     "data": {
      "image/png": "[encoded data removed]",
      "text/plain": [
       "<Figure size 360x360 with 1 Axes>"
      ]
     },
     "metadata": {
      "needs_background": "light"
     },
     "output_type": "display_data"
    }
   ],
   "source": [
    "plt.figure(); # ratio of area <1\n",
    "df3[['pe_area_over_npe_area' ]].plot.bar(figsize=(5, 5))"
   ]
  },
  {
   "cell_type": "markdown",
   "id": "93f9f2be-22fc-4aad-bb05-2028d5e6e141",
   "metadata": {},
   "source": [
    "The areas change by a small fraction hence we dont see much of a change."
   ]
  },
  {
   "cell_type": "markdown",
   "id": "22086893-8a5e-417f-8889-304cd2facebf",
   "metadata": {},
   "source": [
    "### Checking for Equality"
   ]
  },
  {
   "cell_type": "code",
   "execution_count": 35,
   "id": "8fb60b8f-d0ac-4391-b021-665c7e919df9",
   "metadata": {},
   "outputs": [],
   "source": [
    "# testing for equality/different ways\n",
    "\n",
    "df['C'] = df.apply(lambda x : 1 if x['planar enforced area'] == x['non planar enforced area'] else 0, axis=1)\n",
    "# where 1 is true and 0 is false"
   ]
  },
  {
   "cell_type": "code",
   "execution_count": 34,
   "id": "36a71afb-e0fd-4656-95e7-e6d275e5d5f6",
   "metadata": {},
   "outputs": [
    {
     "data": {
      "text/html": [
       "<div>\n",
       "<style scoped>\n",
       "    .dataframe tbody tr th:only-of-type {\n",
       "        vertical-align: middle;\n",
       "    }\n",
       "\n",
       "    .dataframe tbody tr th {\n",
       "        vertical-align: top;\n",
       "    }\n",
       "\n",
       "    .dataframe thead th {\n",
       "        text-align: right;\n",
       "    }\n",
       "</style>\n",
       "<table border=\"1\" class=\"dataframe\">\n",
       "  <thead>\n",
       "    <tr style=\"text-align: right;\">\n",
       "      <th></th>\n",
       "      <th>planar enforced area</th>\n",
       "      <th>non planar enforced area</th>\n",
       "      <th>difference</th>\n",
       "      <th>pe_area_over_npe_area</th>\n",
       "      <th>C</th>\n",
       "    </tr>\n",
       "  </thead>\n",
       "  <tbody>\n",
       "    <tr>\n",
       "      <th>43</th>\n",
       "      <td>12.897117</td>\n",
       "      <td>12.897117</td>\n",
       "      <td>0.000000e+00</td>\n",
       "      <td>1.000000</td>\n",
       "      <td>1</td>\n",
       "    </tr>\n",
       "    <tr>\n",
       "      <th>44</th>\n",
       "      <td>11.870990</td>\n",
       "      <td>11.870990</td>\n",
       "      <td>0.000000e+00</td>\n",
       "      <td>1.000000</td>\n",
       "      <td>1</td>\n",
       "    </tr>\n",
       "    <tr>\n",
       "      <th>45</th>\n",
       "      <td>14.598796</td>\n",
       "      <td>14.598796</td>\n",
       "      <td>0.000000e+00</td>\n",
       "      <td>1.000000</td>\n",
       "      <td>1</td>\n",
       "    </tr>\n",
       "    <tr>\n",
       "      <th>46</th>\n",
       "      <td>7.794397</td>\n",
       "      <td>7.794397</td>\n",
       "      <td>0.000000e+00</td>\n",
       "      <td>1.000000</td>\n",
       "      <td>1</td>\n",
       "    </tr>\n",
       "    <tr>\n",
       "      <th>47</th>\n",
       "      <td>13.517338</td>\n",
       "      <td>13.517338</td>\n",
       "      <td>0.000000e+00</td>\n",
       "      <td>1.000000</td>\n",
       "      <td>1</td>\n",
       "    </tr>\n",
       "    <tr>\n",
       "      <th>48</th>\n",
       "      <td>11.224646</td>\n",
       "      <td>11.224646</td>\n",
       "      <td>0.000000e+00</td>\n",
       "      <td>1.000000</td>\n",
       "      <td>1</td>\n",
       "    </tr>\n",
       "    <tr>\n",
       "      <th>49</th>\n",
       "      <td>13.347713</td>\n",
       "      <td>13.347713</td>\n",
       "      <td>0.000000e+00</td>\n",
       "      <td>1.000000</td>\n",
       "      <td>1</td>\n",
       "    </tr>\n",
       "    <tr>\n",
       "      <th>50</th>\n",
       "      <td>16.927959</td>\n",
       "      <td>16.927959</td>\n",
       "      <td>0.000000e+00</td>\n",
       "      <td>1.000000</td>\n",
       "      <td>1</td>\n",
       "    </tr>\n",
       "    <tr>\n",
       "      <th>51</th>\n",
       "      <td>93.614624</td>\n",
       "      <td>93.614624</td>\n",
       "      <td>1.136868e-12</td>\n",
       "      <td>1.000000</td>\n",
       "      <td>0</td>\n",
       "    </tr>\n",
       "    <tr>\n",
       "      <th>52</th>\n",
       "      <td>132.618869</td>\n",
       "      <td>132.618886</td>\n",
       "      <td>-1.625585e-05</td>\n",
       "      <td>1.000000</td>\n",
       "      <td>0</td>\n",
       "    </tr>\n",
       "    <tr>\n",
       "      <th>53</th>\n",
       "      <td>91.183156</td>\n",
       "      <td>91.184485</td>\n",
       "      <td>-1.328786e-03</td>\n",
       "      <td>0.999985</td>\n",
       "      <td>0</td>\n",
       "    </tr>\n",
       "    <tr>\n",
       "      <th>54</th>\n",
       "      <td>8.585884</td>\n",
       "      <td>8.570124</td>\n",
       "      <td>1.576040e-02</td>\n",
       "      <td>1.001839</td>\n",
       "      <td>0</td>\n",
       "    </tr>\n",
       "    <tr>\n",
       "      <th>55</th>\n",
       "      <td>54.460707</td>\n",
       "      <td>54.460707</td>\n",
       "      <td>0.000000e+00</td>\n",
       "      <td>1.000000</td>\n",
       "      <td>1</td>\n",
       "    </tr>\n",
       "    <tr>\n",
       "      <th>56</th>\n",
       "      <td>269.885033</td>\n",
       "      <td>269.885033</td>\n",
       "      <td>-1.136868e-13</td>\n",
       "      <td>1.000000</td>\n",
       "      <td>0</td>\n",
       "    </tr>\n",
       "    <tr>\n",
       "      <th>57</th>\n",
       "      <td>6.349063</td>\n",
       "      <td>6.349063</td>\n",
       "      <td>0.000000e+00</td>\n",
       "      <td>1.000000</td>\n",
       "      <td>1</td>\n",
       "    </tr>\n",
       "    <tr>\n",
       "      <th>58</th>\n",
       "      <td>515.432543</td>\n",
       "      <td>515.432543</td>\n",
       "      <td>-1.513172e-09</td>\n",
       "      <td>1.000000</td>\n",
       "      <td>0</td>\n",
       "    </tr>\n",
       "    <tr>\n",
       "      <th>59</th>\n",
       "      <td>136.010019</td>\n",
       "      <td>136.017824</td>\n",
       "      <td>-7.805534e-03</td>\n",
       "      <td>0.999943</td>\n",
       "      <td>0</td>\n",
       "    </tr>\n",
       "    <tr>\n",
       "      <th>60</th>\n",
       "      <td>0.670316</td>\n",
       "      <td>0.670316</td>\n",
       "      <td>0.000000e+00</td>\n",
       "      <td>1.000000</td>\n",
       "      <td>1</td>\n",
       "    </tr>\n",
       "    <tr>\n",
       "      <th>61</th>\n",
       "      <td>206.177792</td>\n",
       "      <td>206.184961</td>\n",
       "      <td>-7.168346e-03</td>\n",
       "      <td>0.999965</td>\n",
       "      <td>0</td>\n",
       "    </tr>\n",
       "    <tr>\n",
       "      <th>62</th>\n",
       "      <td>90.424490</td>\n",
       "      <td>90.424490</td>\n",
       "      <td>-1.065814e-12</td>\n",
       "      <td>1.000000</td>\n",
       "      <td>0</td>\n",
       "    </tr>\n",
       "    <tr>\n",
       "      <th>63</th>\n",
       "      <td>87.600875</td>\n",
       "      <td>87.600875</td>\n",
       "      <td>0.000000e+00</td>\n",
       "      <td>1.000000</td>\n",
       "      <td>1</td>\n",
       "    </tr>\n",
       "  </tbody>\n",
       "</table>\n",
       "</div>"
      ],
      "text/plain": [
       "    planar enforced area  non planar enforced area    difference  \\\n",
       "43             12.897117                 12.897117  0.000000e+00   \n",
       "44             11.870990                 11.870990  0.000000e+00   \n",
       "45             14.598796                 14.598796  0.000000e+00   \n",
       "46              7.794397                  7.794397  0.000000e+00   \n",
       "47             13.517338                 13.517338  0.000000e+00   \n",
       "48             11.224646                 11.224646  0.000000e+00   \n",
       "49             13.347713                 13.347713  0.000000e+00   \n",
       "50             16.927959                 16.927959  0.000000e+00   \n",
       "51             93.614624                 93.614624  1.136868e-12   \n",
       "52            132.618869                132.618886 -1.625585e-05   \n",
       "53             91.183156                 91.184485 -1.328786e-03   \n",
       "54              8.585884                  8.570124  1.576040e-02   \n",
       "55             54.460707                 54.460707  0.000000e+00   \n",
       "56            269.885033                269.885033 -1.136868e-13   \n",
       "57              6.349063                  6.349063  0.000000e+00   \n",
       "58            515.432543                515.432543 -1.513172e-09   \n",
       "59            136.010019                136.017824 -7.805534e-03   \n",
       "60              0.670316                  0.670316  0.000000e+00   \n",
       "61            206.177792                206.184961 -7.168346e-03   \n",
       "62             90.424490                 90.424490 -1.065814e-12   \n",
       "63             87.600875                 87.600875  0.000000e+00   \n",
       "\n",
       "    pe_area_over_npe_area  C  \n",
       "43               1.000000  1  \n",
       "44               1.000000  1  \n",
       "45               1.000000  1  \n",
       "46               1.000000  1  \n",
       "47               1.000000  1  \n",
       "48               1.000000  1  \n",
       "49               1.000000  1  \n",
       "50               1.000000  1  \n",
       "51               1.000000  0  \n",
       "52               1.000000  0  \n",
       "53               0.999985  0  \n",
       "54               1.001839  0  \n",
       "55               1.000000  1  \n",
       "56               1.000000  0  \n",
       "57               1.000000  1  \n",
       "58               1.000000  0  \n",
       "59               0.999943  0  \n",
       "60               1.000000  1  \n",
       "61               0.999965  0  \n",
       "62               1.000000  0  \n",
       "63               1.000000  1  "
      ]
     },
     "execution_count": 34,
     "metadata": {},
     "output_type": "execute_result"
    }
   ],
   "source": [
    "df.tail(21)"
   ]
  },
  {
   "cell_type": "code",
   "execution_count": 39,
   "id": "e48cded5-91cd-41dc-a968-58fc079243da",
   "metadata": {},
   "outputs": [],
   "source": [
    "df_not_equal = df[df.C == 0] # subset to look at areas that are not equal"
   ]
  },
  {
   "cell_type": "code",
   "execution_count": 40,
   "id": "2e440c71-b8b1-49f7-a75c-6830f65b73b8",
   "metadata": {},
   "outputs": [
    {
     "data": {
      "text/plain": [
       "(21, 5)"
      ]
     },
     "execution_count": 40,
     "metadata": {},
     "output_type": "execute_result"
    }
   ],
   "source": [
    "df_not_equal.shape # there are 21 polygons that are different"
   ]
  },
  {
   "cell_type": "code",
   "execution_count": 41,
   "id": "865cae5e-1fb0-47ea-a436-ced97b99d2cf",
   "metadata": {},
   "outputs": [
    {
     "data": {
      "text/html": [
       "<div>\n",
       "<style scoped>\n",
       "    .dataframe tbody tr th:only-of-type {\n",
       "        vertical-align: middle;\n",
       "    }\n",
       "\n",
       "    .dataframe tbody tr th {\n",
       "        vertical-align: top;\n",
       "    }\n",
       "\n",
       "    .dataframe thead th {\n",
       "        text-align: right;\n",
       "    }\n",
       "</style>\n",
       "<table border=\"1\" class=\"dataframe\">\n",
       "  <thead>\n",
       "    <tr style=\"text-align: right;\">\n",
       "      <th></th>\n",
       "      <th>planar enforced area</th>\n",
       "      <th>non planar enforced area</th>\n",
       "      <th>difference</th>\n",
       "      <th>pe_area_over_npe_area</th>\n",
       "      <th>C</th>\n",
       "    </tr>\n",
       "  </thead>\n",
       "  <tbody>\n",
       "    <tr>\n",
       "      <th>0</th>\n",
       "      <td>15.543974</td>\n",
       "      <td>15.543974</td>\n",
       "      <td>7.105427e-15</td>\n",
       "      <td>1.000000</td>\n",
       "      <td>0</td>\n",
       "    </tr>\n",
       "    <tr>\n",
       "      <th>3</th>\n",
       "      <td>20.750731</td>\n",
       "      <td>20.749831</td>\n",
       "      <td>8.999905e-04</td>\n",
       "      <td>1.000043</td>\n",
       "      <td>0</td>\n",
       "    </tr>\n",
       "    <tr>\n",
       "      <th>4</th>\n",
       "      <td>45.131687</td>\n",
       "      <td>45.131677</td>\n",
       "      <td>9.660331e-06</td>\n",
       "      <td>1.000000</td>\n",
       "      <td>0</td>\n",
       "    </tr>\n",
       "    <tr>\n",
       "      <th>5</th>\n",
       "      <td>9.583503</td>\n",
       "      <td>9.570609</td>\n",
       "      <td>1.289357e-02</td>\n",
       "      <td>1.001347</td>\n",
       "      <td>0</td>\n",
       "    </tr>\n",
       "    <tr>\n",
       "      <th>6</th>\n",
       "      <td>21.878359</td>\n",
       "      <td>21.874287</td>\n",
       "      <td>4.072578e-03</td>\n",
       "      <td>1.000186</td>\n",
       "      <td>0</td>\n",
       "    </tr>\n",
       "    <tr>\n",
       "      <th>10</th>\n",
       "      <td>24.392654</td>\n",
       "      <td>24.390738</td>\n",
       "      <td>1.916662e-03</td>\n",
       "      <td>1.000079</td>\n",
       "      <td>0</td>\n",
       "    </tr>\n",
       "    <tr>\n",
       "      <th>11</th>\n",
       "      <td>2.804467</td>\n",
       "      <td>2.794098</td>\n",
       "      <td>1.036905e-02</td>\n",
       "      <td>1.003711</td>\n",
       "      <td>0</td>\n",
       "    </tr>\n",
       "    <tr>\n",
       "      <th>12</th>\n",
       "      <td>25.609552</td>\n",
       "      <td>25.576939</td>\n",
       "      <td>3.261319e-02</td>\n",
       "      <td>1.001275</td>\n",
       "      <td>0</td>\n",
       "    </tr>\n",
       "    <tr>\n",
       "      <th>14</th>\n",
       "      <td>2.679751</td>\n",
       "      <td>2.677289</td>\n",
       "      <td>2.461385e-03</td>\n",
       "      <td>1.000919</td>\n",
       "      <td>0</td>\n",
       "    </tr>\n",
       "    <tr>\n",
       "      <th>18</th>\n",
       "      <td>13.887322</td>\n",
       "      <td>13.874597</td>\n",
       "      <td>1.272436e-02</td>\n",
       "      <td>1.000917</td>\n",
       "      <td>0</td>\n",
       "    </tr>\n",
       "    <tr>\n",
       "      <th>27</th>\n",
       "      <td>12.696649</td>\n",
       "      <td>11.299890</td>\n",
       "      <td>1.396759e+00</td>\n",
       "      <td>1.123608</td>\n",
       "      <td>0</td>\n",
       "    </tr>\n",
       "    <tr>\n",
       "      <th>31</th>\n",
       "      <td>2.642887</td>\n",
       "      <td>2.625117</td>\n",
       "      <td>1.776969e-02</td>\n",
       "      <td>1.006769</td>\n",
       "      <td>0</td>\n",
       "    </tr>\n",
       "    <tr>\n",
       "      <th>51</th>\n",
       "      <td>93.614624</td>\n",
       "      <td>93.614624</td>\n",
       "      <td>1.136868e-12</td>\n",
       "      <td>1.000000</td>\n",
       "      <td>0</td>\n",
       "    </tr>\n",
       "    <tr>\n",
       "      <th>52</th>\n",
       "      <td>132.618869</td>\n",
       "      <td>132.618886</td>\n",
       "      <td>-1.625585e-05</td>\n",
       "      <td>1.000000</td>\n",
       "      <td>0</td>\n",
       "    </tr>\n",
       "    <tr>\n",
       "      <th>53</th>\n",
       "      <td>91.183156</td>\n",
       "      <td>91.184485</td>\n",
       "      <td>-1.328786e-03</td>\n",
       "      <td>0.999985</td>\n",
       "      <td>0</td>\n",
       "    </tr>\n",
       "    <tr>\n",
       "      <th>54</th>\n",
       "      <td>8.585884</td>\n",
       "      <td>8.570124</td>\n",
       "      <td>1.576040e-02</td>\n",
       "      <td>1.001839</td>\n",
       "      <td>0</td>\n",
       "    </tr>\n",
       "    <tr>\n",
       "      <th>56</th>\n",
       "      <td>269.885033</td>\n",
       "      <td>269.885033</td>\n",
       "      <td>-1.136868e-13</td>\n",
       "      <td>1.000000</td>\n",
       "      <td>0</td>\n",
       "    </tr>\n",
       "    <tr>\n",
       "      <th>58</th>\n",
       "      <td>515.432543</td>\n",
       "      <td>515.432543</td>\n",
       "      <td>-1.513172e-09</td>\n",
       "      <td>1.000000</td>\n",
       "      <td>0</td>\n",
       "    </tr>\n",
       "    <tr>\n",
       "      <th>59</th>\n",
       "      <td>136.010019</td>\n",
       "      <td>136.017824</td>\n",
       "      <td>-7.805534e-03</td>\n",
       "      <td>0.999943</td>\n",
       "      <td>0</td>\n",
       "    </tr>\n",
       "    <tr>\n",
       "      <th>61</th>\n",
       "      <td>206.177792</td>\n",
       "      <td>206.184961</td>\n",
       "      <td>-7.168346e-03</td>\n",
       "      <td>0.999965</td>\n",
       "      <td>0</td>\n",
       "    </tr>\n",
       "    <tr>\n",
       "      <th>62</th>\n",
       "      <td>90.424490</td>\n",
       "      <td>90.424490</td>\n",
       "      <td>-1.065814e-12</td>\n",
       "      <td>1.000000</td>\n",
       "      <td>0</td>\n",
       "    </tr>\n",
       "  </tbody>\n",
       "</table>\n",
       "</div>"
      ],
      "text/plain": [
       "    planar enforced area  non planar enforced area    difference  \\\n",
       "0              15.543974                 15.543974  7.105427e-15   \n",
       "3              20.750731                 20.749831  8.999905e-04   \n",
       "4              45.131687                 45.131677  9.660331e-06   \n",
       "5               9.583503                  9.570609  1.289357e-02   \n",
       "6              21.878359                 21.874287  4.072578e-03   \n",
       "10             24.392654                 24.390738  1.916662e-03   \n",
       "11              2.804467                  2.794098  1.036905e-02   \n",
       "12             25.609552                 25.576939  3.261319e-02   \n",
       "14              2.679751                  2.677289  2.461385e-03   \n",
       "18             13.887322                 13.874597  1.272436e-02   \n",
       "27             12.696649                 11.299890  1.396759e+00   \n",
       "31              2.642887                  2.625117  1.776969e-02   \n",
       "51             93.614624                 93.614624  1.136868e-12   \n",
       "52            132.618869                132.618886 -1.625585e-05   \n",
       "53             91.183156                 91.184485 -1.328786e-03   \n",
       "54              8.585884                  8.570124  1.576040e-02   \n",
       "56            269.885033                269.885033 -1.136868e-13   \n",
       "58            515.432543                515.432543 -1.513172e-09   \n",
       "59            136.010019                136.017824 -7.805534e-03   \n",
       "61            206.177792                206.184961 -7.168346e-03   \n",
       "62             90.424490                 90.424490 -1.065814e-12   \n",
       "\n",
       "    pe_area_over_npe_area  C  \n",
       "0                1.000000  0  \n",
       "3                1.000043  0  \n",
       "4                1.000000  0  \n",
       "5                1.001347  0  \n",
       "6                1.000186  0  \n",
       "10               1.000079  0  \n",
       "11               1.003711  0  \n",
       "12               1.001275  0  \n",
       "14               1.000919  0  \n",
       "18               1.000917  0  \n",
       "27               1.123608  0  \n",
       "31               1.006769  0  \n",
       "51               1.000000  0  \n",
       "52               1.000000  0  \n",
       "53               0.999985  0  \n",
       "54               1.001839  0  \n",
       "56               1.000000  0  \n",
       "58               1.000000  0  \n",
       "59               0.999943  0  \n",
       "61               0.999965  0  \n",
       "62               1.000000  0  "
      ]
     },
     "execution_count": 41,
     "metadata": {},
     "output_type": "execute_result"
    }
   ],
   "source": [
    "df_not_equal.head(21)"
   ]
  },
  {
   "cell_type": "code",
   "execution_count": 43,
   "id": "c67d874f-f41c-4bad-a6d3-1747258668a0",
   "metadata": {},
   "outputs": [
    {
     "data": {
      "text/plain": [
       "<AxesSubplot:>"
      ]
     },
     "execution_count": 43,
     "metadata": {},
     "output_type": "execute_result"
    },
    {
     "data": {
      "text/plain": [
       "<Figure size 432x288 with 0 Axes>"
      ]
     },
     "metadata": {},
     "output_type": "display_data"
    },
    {
     "data": {
      "image/png": "[encoded data removed]",
      "text/plain": [
       "<Figure size 1440x720 with 1 Axes>"
      ]
     },
     "metadata": {
      "needs_background": "light"
     },
     "output_type": "display_data"
    }
   ],
   "source": [
    "plt.figure(); # plotting the differences \n",
    "df_not_equal[['difference' ]].plot.bar(figsize=(20, 10))"
   ]
  },
  {
   "cell_type": "markdown",
   "id": "9daee5be-8752-4edb-b140-a7d61011b50e",
   "metadata": {},
   "source": [
    "Here we can see the changes in the areas, the 27 polygon (Ohio) has the most change. "
   ]
  },
  {
   "cell_type": "markdown",
   "id": "b4717a89-5585-4ad7-bfa9-50b1628fc06a",
   "metadata": {},
   "source": [
    "## Plotting Areas that Changed  "
   ]
  },
  {
   "cell_type": "markdown",
   "id": "f5029373-05d8-482b-8bd9-42f98c2405b7",
   "metadata": {},
   "source": [
    "### RATIO OF AREAS >1"
   ]
  },
  {
   "cell_type": "code",
   "execution_count": 44,
   "id": "3f876156-744e-4a0e-bcfe-e7953ae4d939",
   "metadata": {},
   "outputs": [],
   "source": [
    "ratio_area_greater_1 = planar_enforced_area.iloc[['0','3','4','5','6', '10', '11', '12', '14','18', '27',\n",
    "                                          '31','51', '54']]"
   ]
  },
  {
   "cell_type": "code",
   "execution_count": 44,
   "id": "d798178f-b1a1-4404-842b-e6663a27c8ba",
   "metadata": {},
   "outputs": [
    {
     "data": {
      "text/plain": [
       "<AxesSubplot:>"
      ]
     },
     "execution_count": 44,
     "metadata": {},
     "output_type": "execute_result"
    },
    {
     "data": {
      "image/png": "[encoded data removed]",
      "text/plain": [
       "<Figure size 864x864 with 1 Axes>"
      ]
     },
     "metadata": {
      "needs_background": "light"
     },
     "output_type": "display_data"
    }
   ],
   "source": [
    "ratio_area_greater_1.plot(column= 'COUNTRY', cmap='Spectral', figsize=(12, 12))"
   ]
  },
  {
   "cell_type": "markdown",
   "id": "75444bf6-bd0d-4c78-83c5-94653ed9efb7",
   "metadata": {
    "tags": []
   },
   "source": [
    "Ratio of Areas >1 is mostly US states. Meaning the states in US have greater area after geoplanar."
   ]
  },
  {
   "cell_type": "markdown",
   "id": "6e400530-db17-4055-80c9-23e0fb7df88f",
   "metadata": {},
   "source": [
    "### RATIO OF AREAS < 1"
   ]
  },
  {
   "cell_type": "code",
   "execution_count": 46,
   "id": "56d7503c-5631-4c84-aa8e-c11f00e431a4",
   "metadata": {},
   "outputs": [],
   "source": [
    "ratio_area_less_1 = planar_enforced_area.iloc[[ '52', '53', '56', '58', '59','61', '62']]"
   ]
  },
  {
   "cell_type": "code",
   "execution_count": 47,
   "id": "3d9a9211-7f43-470e-b251-2cd1a159bcaf",
   "metadata": {},
   "outputs": [
    {
     "data": {
      "text/plain": [
       "<AxesSubplot:>"
      ]
     },
     "execution_count": 47,
     "metadata": {},
     "output_type": "execute_result"
    },
    {
     "data": {
      "image/png": "[encoded data removed]",
      "text/plain": [
       "<Figure size 864x864 with 1 Axes>"
      ]
     },
     "metadata": {
      "needs_background": "light"
     },
     "output_type": "display_data"
    }
   ],
   "source": [
    "ratio_area_less_1.plot(column= 'COUNTRY', cmap='Spectral', figsize=(12, 12))"
   ]
  },
  {
   "cell_type": "markdown",
   "id": "ca36795f-85dd-4525-a91b-df244969c8cb",
   "metadata": {
    "jp-MarkdownHeadingCollapsed": true,
    "tags": []
   },
   "source": [
    "The areas gets smaller in Canada after application of geoplanar."
   ]
  },
  {
   "cell_type": "markdown",
   "id": "68ebb2d6-4685-42d6-9e6e-79d52781ff2f",
   "metadata": {},
   "source": [
    "For the US the most changes occured near the border region. For canada the entire region has a slight change in the area of the polygons."
   ]
  },
  {
   "cell_type": "markdown",
   "id": "c4f98c47-0a7b-498e-b502-03fa53c50a8a",
   "metadata": {
    "jp-MarkdownHeadingCollapsed": true,
    "tags": []
   },
   "source": [
    "## CANADA- NorthWest Territories \n",
    "- Not at the border \n",
    "- Area ratio <1\n",
    "- Centroids Geometries Equals Exact= True"
   ]
  },
  {
   "cell_type": "code",
   "execution_count": 48,
   "id": "0ba3afbc-d513-4798-98de-67c22f7631da",
   "metadata": {},
   "outputs": [],
   "source": [
    "NT_pe = planar_enforced_area[planar_enforced_area.NAME_1==\"Northwest Territories\"] \n",
    "NT_npe = non_planar_enforced_area[non_planar_enforced_area.NAME_1==\"Northwest Territories\"] "
   ]
  },
  {
   "cell_type": "code",
   "execution_count": 49,
   "id": "fe3a8648-0666-432e-8d62-3b11f51394ac",
   "metadata": {},
   "outputs": [],
   "source": [
    "NT_pe = NT_pe.explode()\n",
    "NT_npe = NT_npe.explode()"
   ]
  },
  {
   "cell_type": "code",
   "execution_count": 50,
   "id": "7471d79f-3704-4cb9-84f1-fd0f9ad6c15b",
   "metadata": {},
   "outputs": [
    {
     "name": "stdout",
     "output_type": "stream",
     "text": [
      "POLYGON ((-135.12083435 68.48124695, -135.12290955 68.48124695, -135.1244812 68.48176575, -135.1244812 68.48281097, -135.12290955 68.48332977, -135.12135315 68.48384857, -135.12031555 68.48490143, -135.1187439 68.48542023, -135.1166687 68.48542023, -135.11457825 68.48542023, -135.11250305 68.48542023, -135.1109314 68.48490143, -135.1098938 68.48384857, -135.1088562 68.48281097, -135.1083374 68.48124695, -135.1088562 68.47968292, -135.1104126 68.47916412, -135.11250305 68.47916412, -135.11457825 68.47916412, -135.1166687 68.47916412, -135.1182251 68.47968292, -135.1192627 68.48072815, -135.12083435 68.48124695))\n"
     ]
    }
   ],
   "source": [
    "print(NT_pe.iloc[3].geometry)"
   ]
  },
  {
   "cell_type": "code",
   "execution_count": 51,
   "id": "229c425c-f7b1-41ce-ad98-ef77372f31c4",
   "metadata": {},
   "outputs": [
    {
     "name": "stdout",
     "output_type": "stream",
     "text": [
      "POLYGON ((-135.1098938 68.48384857, -135.1088562 68.48281097, -135.1083374 68.48124695, -135.1088562 68.47968292, -135.1104126 68.47916412, -135.11250305 68.47916412, -135.11457825 68.47916412, -135.1166687 68.47916412, -135.1182251 68.47968292, -135.1192627 68.48072815, -135.12083435 68.48124695, -135.12290955 68.48124695, -135.1244812 68.48176575, -135.1244812 68.48281097, -135.12290955 68.48332977, -135.12135315 68.48384857, -135.12031555 68.48490143, -135.1187439 68.48542023, -135.1166687 68.48542023, -135.11457825 68.48542023, -135.11250305 68.48542023, -135.1109314 68.48490143, -135.1098938 68.48384857))\n"
     ]
    }
   ],
   "source": [
    "print(NT_npe.iloc[3].geometry)"
   ]
  },
  {
   "cell_type": "code",
   "execution_count": 52,
   "id": "dcaf5595-da1f-470f-9be3-ebe6b26ed791",
   "metadata": {},
   "outputs": [
    {
     "data": {
      "image/svg+xml": [
       "<svg xmlns=\"http://www.w3.org/2000/svg\" xmlns:xlink=\"http://www.w3.org/1999/xlink\" width=\"100.0\" height=\"100.0\" viewBox=\"-135.125126952 68.478518368 0.017435303999974394 0.0075476140000034775\" preserveAspectRatio=\"xMinYMin meet\"><g transform=\"matrix(1,0,0,-1,0,136.96458435)\"><path fill-rule=\"evenodd\" fill=\"#66cc99\" stroke=\"#555555\" stroke-width=\"0.0003487060799994879\" opacity=\"0.6\" d=\"M -135.12083435,68.48124695 L -135.12290955,68.48124695 L -135.1244812,68.48176575 L -135.1244812,68.48281097 L -135.12290955,68.48332977 L -135.12135315,68.48384857 L -135.12031555,68.48490143 L -135.1187439,68.48542023 L -135.1166687,68.48542023 L -135.11457825,68.48542023 L -135.11250305,68.48542023 L -135.1109314,68.48490143 L -135.1098938,68.48384857 L -135.1088562,68.48281097 L -135.1083374,68.48124695 L -135.1088562,68.47968292 L -135.1104126,68.47916412 L -135.11250305,68.47916412 L -135.11457825,68.47916412 L -135.1166687,68.47916412 L -135.1182251,68.47968292 L -135.1192627,68.48072815 L -135.12083435,68.48124695 z\" /></g></svg>"
      ],
      "text/plain": [
       "<shapely.geometry.polygon.Polygon at 0x7fc177cc27d0>"
      ]
     },
     "execution_count": 52,
     "metadata": {},
     "output_type": "execute_result"
    }
   ],
   "source": [
    "NT_pe.iloc[3].geometry"
   ]
  },
  {
   "cell_type": "code",
   "execution_count": 53,
   "id": "84c43eb4-0d58-4c2e-9391-c4ebc8792e25",
   "metadata": {},
   "outputs": [
    {
     "data": {
      "image/svg+xml": [
       "<svg xmlns=\"http://www.w3.org/2000/svg\" xmlns:xlink=\"http://www.w3.org/1999/xlink\" width=\"100.0\" height=\"100.0\" viewBox=\"-135.125126952 68.478518368 0.017435303999974394 0.0075476140000034775\" preserveAspectRatio=\"xMinYMin meet\"><g transform=\"matrix(1,0,0,-1,0,136.96458435)\"><path fill-rule=\"evenodd\" fill=\"#66cc99\" stroke=\"#555555\" stroke-width=\"0.0003487060799994879\" opacity=\"0.6\" d=\"M -135.1098938,68.48384857 L -135.1088562,68.48281097 L -135.1083374,68.48124695 L -135.1088562,68.47968292 L -135.1104126,68.47916412 L -135.11250305,68.47916412 L -135.11457825,68.47916412 L -135.1166687,68.47916412 L -135.1182251,68.47968292 L -135.1192627,68.48072815 L -135.12083435,68.48124695 L -135.12290955,68.48124695 L -135.1244812,68.48176575 L -135.1244812,68.48281097 L -135.12290955,68.48332977 L -135.12135315,68.48384857 L -135.12031555,68.48490143 L -135.1187439,68.48542023 L -135.1166687,68.48542023 L -135.11457825,68.48542023 L -135.11250305,68.48542023 L -135.1109314,68.48490143 L -135.1098938,68.48384857 z\" /></g></svg>"
      ],
      "text/plain": [
       "<shapely.geometry.polygon.Polygon at 0x7fc174b39310>"
      ]
     },
     "execution_count": 53,
     "metadata": {},
     "output_type": "execute_result"
    }
   ],
   "source": [
    "NT_npe.iloc[3].geometry"
   ]
  },
  {
   "cell_type": "code",
   "execution_count": 98,
   "id": "bfa8aa75-b0df-473e-b662-2608fc5f41ed",
   "metadata": {},
   "outputs": [
    {
     "data": {
      "text/plain": [
       "<AxesSubplot:>"
      ]
     },
     "execution_count": 98,
     "metadata": {},
     "output_type": "execute_result"
    },
    {
     "data": {
      "image/png": "[encoded data removed]",
      "text/plain": [
       "<Figure size 432x288 with 1 Axes>"
      ]
     },
     "metadata": {
      "needs_background": "light"
     },
     "output_type": "display_data"
    }
   ],
   "source": [
    "NT_pe.tail(1000).plot()"
   ]
  },
  {
   "cell_type": "code",
   "execution_count": 99,
   "id": "82396f5f-7a57-44f2-ae68-5717f2ab84a6",
   "metadata": {},
   "outputs": [
    {
     "data": {
      "text/plain": [
       "<AxesSubplot:>"
      ]
     },
     "execution_count": 99,
     "metadata": {},
     "output_type": "execute_result"
    },
    {
     "data": {
      "image/png": "[encoded data removed]",
      "text/plain": [
       "<Figure size 432x288 with 1 Axes>"
      ]
     },
     "metadata": {
      "needs_background": "light"
     },
     "output_type": "display_data"
    }
   ],
   "source": [
    "NT_npe.tail(1000).plot()"
   ]
  },
  {
   "cell_type": "markdown",
   "id": "348ba277-776f-4e27-a3a7-1e940d5221ce",
   "metadata": {},
   "source": [
    "### Geoms equals exact"
   ]
  },
  {
   "cell_type": "code",
   "execution_count": 54,
   "id": "e563c67e-86bc-4811-85d1-467ab50c190c",
   "metadata": {},
   "outputs": [
    {
     "data": {
      "text/plain": [
       "(1676, 23)"
      ]
     },
     "execution_count": 54,
     "metadata": {},
     "output_type": "execute_result"
    }
   ],
   "source": [
    "NT_npe.shape"
   ]
  },
  {
   "cell_type": "code",
   "execution_count": 55,
   "id": "ec47bdc4-ecc4-4603-9d7a-215830143ec5",
   "metadata": {},
   "outputs": [
    {
     "data": {
      "text/plain": [
       "969"
      ]
     },
     "execution_count": 55,
     "metadata": {},
     "output_type": "execute_result"
    }
   ],
   "source": [
    "NT_npe.geometry.geom_equals_exact(NT_pe.geometry, tolerance=0.01).sum()"
   ]
  },
  {
   "cell_type": "code",
   "execution_count": 56,
   "id": "bc9fcf2c-b6aa-48bc-8596-d186aa9b7f47",
   "metadata": {},
   "outputs": [
    {
     "data": {
      "text/plain": [
       "1674"
      ]
     },
     "execution_count": 56,
     "metadata": {},
     "output_type": "execute_result"
    }
   ],
   "source": [
    "NT_npe.geometry.geom_equals_exact(NT_pe.geometry, tolerance=0.5).sum()"
   ]
  },
  {
   "cell_type": "markdown",
   "id": "0109a9e8-0fd7-4064-9d50-efb04951e45a",
   "metadata": {
    "tags": []
   },
   "source": [
    "## CANADA- Ontario \n",
    "- At the border\n",
    "- Ratio of area <1\n",
    "- Centroids Geometries Equals Exact= False"
   ]
  },
  {
   "cell_type": "code",
   "execution_count": 62,
   "id": "f8dc2cf2-2604-498b-a1cb-4104d0c4b454",
   "metadata": {},
   "outputs": [],
   "source": [
    "O_pe = planar_enforced_area[planar_enforced_area.NAME_1==\"Ontario\"] \n",
    "O_npe = non_planar_enforced_area[non_planar_enforced_area.NAME_1==\"Ontario\"] "
   ]
  },
  {
   "cell_type": "code",
   "execution_count": 63,
   "id": "519a50b5-3373-4d9f-bbf0-47c3a0d0c99f",
   "metadata": {},
   "outputs": [],
   "source": [
    "O_pe = O_pe.explode()\n",
    "O_npe = O_npe.explode()"
   ]
  },
  {
   "cell_type": "code",
   "execution_count": 103,
   "id": "0ce24c01-a5ed-44db-a187-0b533152e464",
   "metadata": {},
   "outputs": [],
   "source": [
    "O_npe = non_planar_enforced_area[non_planar_enforced_area.NAME_1==\"Ontario\"] "
   ]
  },
  {
   "cell_type": "code",
   "execution_count": 64,
   "id": "40b23412-7609-42b4-8921-0cb10e8beaf8",
   "metadata": {},
   "outputs": [
    {
     "data": {
      "text/plain": [
       "level_0                                                      56\n",
       "COUNTRY                                                  CANADA\n",
       "index                                                       8.0\n",
       "AREA                                                        NaN\n",
       "PERIMETER                                                   NaN\n",
       "STATE_                                                      NaN\n",
       "STATE_ID                                                    NaN\n",
       "STATE_NAME                                                 None\n",
       "STATE_FIPS                                                 None\n",
       "SUB_REGION                                                 None\n",
       "STATE_ABBR                                                 None\n",
       "GID_0                                                       CAN\n",
       "NAME_0                                                   Canada\n",
       "GID_1                                                   CAN.9_1\n",
       "NAME_1                                                  Ontario\n",
       "VARNAME_1                                          Upper Canada\n",
       "NL_NAME_1                                                  None\n",
       "TYPE_1                                                 Province\n",
       "ENGTYPE_1                                              Province\n",
       "CC_1                                                         35\n",
       "HASC_1                                                    CA.ON\n",
       "area                                                 136.017824\n",
       "geometry      POLYGON ((-74.51276398 45.09236908, -74.513847...\n",
       "Name: (59, 10), dtype: object"
      ]
     },
     "execution_count": 64,
     "metadata": {},
     "output_type": "execute_result"
    }
   ],
   "source": [
    "O_npe.iloc[10]"
   ]
  },
  {
   "cell_type": "code",
   "execution_count": 60,
   "id": "8e8c5462",
   "metadata": {},
   "outputs": [
    {
     "data": {
      "image/svg+xml": [
       "<svg xmlns=\"http://www.w3.org/2000/svg\" xmlns:xlink=\"http://www.w3.org/1999/xlink\" width=\"100.0\" height=\"100.0\" viewBox=\"-88.6814672868 56.7529580732 0.01015137359999585 0.004383543599999484\" preserveAspectRatio=\"xMinYMin meet\"><g transform=\"matrix(1,0,0,-1,0,113.51029969)\"><path fill-rule=\"evenodd\" fill=\"#66cc99\" stroke=\"#555555\" stroke-width=\"0.000203027471999917\" opacity=\"0.6\" d=\"M -88.67888641,56.75638962 L -88.67817688,56.75638962 L -88.67722321,56.75638962 L -88.67610931,56.75666809 L -88.67608643,56.75689697 L -88.67500305,56.75694275 L -88.67444611,56.75666809 L -88.67333984,56.75696564 L -88.67288208,56.75694656 L -88.67277527,56.75694275 L -88.67277527,56.75653076 L -88.67277527,56.75638962 L -88.67169189,56.75592041 L -88.67222595,56.7555542 L -88.67356873,56.75488281 L -88.67388916,56.75469971 L -88.67444611,56.75416565 L -88.67547607,56.75415039 L -88.67556,56.75415039 L -88.67566681,56.75422287 L -88.67610931,56.75444412 L -88.67666626,56.75444412 L -88.67693329,56.75431061 L -88.67718506,56.75411606 L -88.67722321,56.75388718 L -88.67888641,56.75361252 L -88.67888641,56.75333405 L -88.68055725,56.75333405 L -88.68055725,56.75361252 L -88.68109131,56.75390625 L -88.68109131,56.7545166 L -88.68000031,56.75500107 L -88.67967987,56.75500107 L -88.67944336,56.75500107 L -88.67944336,56.7549057 L -88.67944336,56.7547226 L -88.67828369,56.75469971 L -88.67828369,56.75531006 L -88.67888641,56.7555542 L -88.67879486,56.75561905 L -88.67832947,56.75594711 L -88.67888641,56.75611115 L -88.67889404,56.75628662 L -88.67888641,56.75638962 z\" /></g></svg>"
      ],
      "text/plain": [
       "<shapely.geometry.polygon.Polygon at 0x7fc30e26c790>"
      ]
     },
     "execution_count": 60,
     "metadata": {},
     "output_type": "execute_result"
    }
   ],
   "source": [
    "O_pe.iloc[10].geometry"
   ]
  },
  {
   "cell_type": "code",
   "execution_count": 66,
   "id": "d32d1461-738c-4adc-b03f-17dbd8929d30",
   "metadata": {},
   "outputs": [
    {
     "data": {
      "image/svg+xml": [
       "<svg xmlns=\"http://www.w3.org/2000/svg\" xmlns:xlink=\"http://www.w3.org/1999/xlink\" width=\"100.0\" height=\"100.0\" viewBox=\"-74.51461273599999 45.092297974 0.0019198619999798439 0.001328581999999301\" preserveAspectRatio=\"xMinYMin meet\"><g transform=\"matrix(1,0,0,-1,0,90.18592453)\"><path fill-rule=\"evenodd\" fill=\"#66cc99\" stroke=\"#555555\" stroke-width=\"3.8397239999596875e-05\" opacity=\"0.6\" d=\"M -74.51276398,45.09236908 L -74.51384735,45.09236908 L -74.51454163,45.09286499 L -74.51424408,45.09355545 L -74.51355743,45.09306335 L -74.51276398,45.09236908 z\" /></g></svg>"
      ],
      "text/plain": [
       "<shapely.geometry.polygon.Polygon at 0x7fc1863d3b90>"
      ]
     },
     "execution_count": 66,
     "metadata": {},
     "output_type": "execute_result"
    }
   ],
   "source": [
    "O_npe.iloc[10].geometry"
   ]
  },
  {
   "cell_type": "code",
   "execution_count": 67,
   "id": "3602ce32-4849-47b0-9eed-ab24ba936a5a",
   "metadata": {},
   "outputs": [
    {
     "data": {
      "text/plain": [
       "<AxesSubplot:>"
      ]
     },
     "execution_count": 67,
     "metadata": {},
     "output_type": "execute_result"
    },
    {
     "data": {
      "image/png": "[encoded data removed]",
      "text/plain": [
       "<Figure size 432x288 with 1 Axes>"
      ]
     },
     "metadata": {
      "needs_background": "light"
     },
     "output_type": "display_data"
    }
   ],
   "source": [
    "O_pe.tail(20).plot()"
   ]
  },
  {
   "cell_type": "code",
   "execution_count": 68,
   "id": "0ee6f899-f6e0-47af-ab39-c574880075f2",
   "metadata": {},
   "outputs": [
    {
     "data": {
      "text/plain": [
       "<AxesSubplot:>"
      ]
     },
     "execution_count": 68,
     "metadata": {},
     "output_type": "execute_result"
    },
    {
     "data": {
      "image/png": "[encoded data removed]",
      "text/plain": [
       "<Figure size 432x288 with 1 Axes>"
      ]
     },
     "metadata": {
      "needs_background": "light"
     },
     "output_type": "display_data"
    }
   ],
   "source": [
    "O_npe.tail(20).plot()"
   ]
  },
  {
   "cell_type": "markdown",
   "id": "5de72e88-4361-406e-9c0a-ff3d6282e446",
   "metadata": {},
   "source": [
    "## US- Montana  \n",
    "- At the border\n",
    "- Ratio of Areas >1\n"
   ]
  },
  {
   "cell_type": "code",
   "execution_count": 69,
   "id": "8d330139-241b-47f8-8382-2eedc8885f68",
   "metadata": {
    "tags": []
   },
   "outputs": [],
   "source": [
    "m_pe = planar_enforced_area[planar_enforced_area.STATE_NAME==\"Montana\"] "
   ]
  },
  {
   "cell_type": "code",
   "execution_count": 70,
   "id": "254d5ce7-b823-4e63-9e08-614a295c6d28",
   "metadata": {},
   "outputs": [],
   "source": [
    "m_npe = non_planar_enforced_area[non_planar_enforced_area.STATE_NAME==\"Montana\"] "
   ]
  },
  {
   "cell_type": "code",
   "execution_count": 71,
   "id": "763ac310-4410-4d19-8d58-a3e7dedf3552",
   "metadata": {},
   "outputs": [
    {
     "data": {
      "text/plain": [
       "level_0                                                       1\n",
       "COUNTRY                                                      US\n",
       "index                                                       1.0\n",
       "AREA                                                     45.132\n",
       "PERIMETER                                                34.527\n",
       "STATE_                                                      2.0\n",
       "STATE_ID                                                    2.0\n",
       "STATE_NAME                                              Montana\n",
       "STATE_FIPS                                                   30\n",
       "SUB_REGION                                                  Mtn\n",
       "STATE_ABBR                                                   MT\n",
       "GID_0                                                      None\n",
       "NAME_0                                                     None\n",
       "GID_1                                                      None\n",
       "NAME_1                                                     None\n",
       "VARNAME_1                                                  None\n",
       "NL_NAME_1                                                  None\n",
       "TYPE_1                                                     None\n",
       "ENGTYPE_1                                                  None\n",
       "CC_1                                                       None\n",
       "HASC_1                                                     None\n",
       "area                                                  45.131687\n",
       "geometry      POLYGON ((-111.45853424072266 44.5380020141601...\n",
       "Name: (4, 0), dtype: object"
      ]
     },
     "execution_count": 71,
     "metadata": {},
     "output_type": "execute_result"
    }
   ],
   "source": [
    "m_pe = m_pe.explode()\n",
    "m_pe.iloc[0]"
   ]
  },
  {
   "cell_type": "code",
   "execution_count": 72,
   "id": "a7468aab-ed94-4286-9d5f-f947f9fbb638",
   "metadata": {},
   "outputs": [
    {
     "data": {
      "text/plain": [
       "level_0                                                       1\n",
       "COUNTRY                                                      US\n",
       "index                                                       1.0\n",
       "AREA                                                     45.132\n",
       "PERIMETER                                                34.527\n",
       "STATE_                                                      2.0\n",
       "STATE_ID                                                    2.0\n",
       "STATE_NAME                                              Montana\n",
       "STATE_FIPS                                                   30\n",
       "SUB_REGION                                                  Mtn\n",
       "STATE_ABBR                                                   MT\n",
       "GID_0                                                      None\n",
       "NAME_0                                                     None\n",
       "GID_1                                                      None\n",
       "NAME_1                                                     None\n",
       "VARNAME_1                                                  None\n",
       "NL_NAME_1                                                  None\n",
       "TYPE_1                                                     None\n",
       "ENGTYPE_1                                                  None\n",
       "CC_1                                                       None\n",
       "HASC_1                                                     None\n",
       "area                                                  45.131677\n",
       "geometry      POLYGON ((-111.4746322631836 44.70223999023437...\n",
       "Name: (4, 0), dtype: object"
      ]
     },
     "execution_count": 72,
     "metadata": {},
     "output_type": "execute_result"
    }
   ],
   "source": [
    "m_npe = m_npe.explode()\n",
    "m_npe.iloc[0]"
   ]
  },
  {
   "cell_type": "code",
   "execution_count": 73,
   "id": "9b0026c4-bfc4-4ce3-bd6d-07ee07f202e9",
   "metadata": {},
   "outputs": [
    {
     "data": {
      "image/svg+xml": [
       "<svg xmlns=\"http://www.w3.org/2000/svg\" xmlns:xlink=\"http://www.w3.org/1999/xlink\" width=\"100.0\" height=\"100.0\" viewBox=\"-116.54329681396484 43.87293243408203 12.981513977050781 5.607933039882809\" preserveAspectRatio=\"xMinYMin meet\"><g transform=\"matrix(1,0,0,-1,0,93.35379790804687)\"><path fill-rule=\"evenodd\" fill=\"#66cc99\" stroke=\"#555555\" stroke-width=\"0.25963027954101564\" opacity=\"0.6\" d=\"M -111.45853424072266,44.538002014160156 L -111.48178100585938,44.536224365234375 L -111.48944854736328,44.528778076171875 L -111.56643676757812,44.552947998046875 L -111.60445404052734,44.54307174682617 L -111.68406677246094,44.55083465576172 L -111.71620178222656,44.533843994140625 L -111.76612091064453,44.5189094543457 L -111.79180908203125,44.51854705810547 L -111.80703735351562,44.504066467285156 L -111.87169647216797,44.55635070800781 L -111.9395751953125,44.54981231689453 L -111.97700500488281,44.529762268066406 L -112.02279663085938,44.53512954711914 L -112.02626037597656,44.52293014526367 L -112.05854797363281,44.5286979675293 L -112.09907531738281,44.51831817626953 L -112.12336730957031,44.52833938598633 L -112.1988296508789,44.53153610229492 L -112.21693420410156,44.53858184814453 L -112.22956848144531,44.55957794189453 L -112.25584411621094,44.56005859375 L -112.28150939941406,44.54179000854492 L -112.3416748046875,44.52518844604492 L -112.3397445678711,44.49726867675781 L -112.36675262451172,44.44935989379883 L -112.419921875,44.44937515258789 L -112.45768737792969,44.46892547607422 L -112.50100708007812,44.46308898925781 L -112.53849029541016,44.47758865356445 L -112.65235137939453,44.480892181396484 L -112.71348571777344,44.49702453613281 L -112.73287200927734,44.48440933227539 L -112.77902221679688,44.4740104675293 L -112.7953872680664,44.458099365234375 L -112.82585144042969,44.421173095703125 L -112.81787109375,44.3949089050293 L -112.81655883789062,44.36429214477539 L -112.84343719482422,44.353729248046875 L -112.86994171142578,44.37006759643555 L -112.88646697998047,44.392940521240234 L -112.93743896484375,44.40727996826172 L -112.98440551757812,44.43562698364258 L -113.01116943359375,44.437801361083984 L -113.00581359863281,44.452701568603516 L -113.01946258544922,44.48186111450195 L -113.00686645507812,44.51069641113281 L -113.03697204589844,44.533042907714844 L -113.03881072998047,44.55637741088867 L -113.08218383789062,44.582763671875 L -113.05343627929688,44.62437057495117 L -113.0722885131836,44.67560577392578 L -113.09809875488281,44.69599533081055 L -113.10084533691406,44.71525192260742 L -113.12657165527344,44.737457275390625 L -113.13741302490234,44.76151657104492 L -113.23947143554688,44.81191635131836 L -113.25628662109375,44.81056213378906 L -113.31781005859375,44.780303955078125 L -113.33975982666016,44.779075622558594 L -113.34915161132812,44.80764389038086 L -113.42050170898438,44.83377456665039 L -113.44469451904297,44.851314544677734 L -113.49530792236328,44.93074417114258 L -113.48646545410156,44.93964767456055 L -113.46253204345703,44.94084930419922 L -113.44788360595703,44.9495964050293 L -113.44014739990234,44.998268127441406 L -113.45796966552734,45.027523040771484 L -113.45455169677734,45.04342269897461 L -113.48542022705078,45.05839538574219 L -113.48927307128906,45.071292877197266 L -113.51972198486328,45.08213806152344 L -113.50933837890625,45.10791015625 L -113.55138397216797,45.10762405395508 L -113.573486328125,45.1177864074707 L -113.57069396972656,45.134620666503906 L -113.59320831298828,45.149818420410156 L -113.60003662109375,45.181068420410156 L -113.64469909667969,45.20686721801758 L -113.68922424316406,45.262359619140625 L -113.68781280517578,45.27786636352539 L -113.7381820678711,45.32160949707031 L -113.74040985107422,45.38246536254883 L -113.77412414550781,45.41025161743164 L -113.78475952148438,45.44571304321289 L -113.76826477050781,45.477787017822266 L -113.77140045166016,45.50713348388672 L -113.780029296875,45.516944885253906 L -113.83280944824219,45.51498794555664 L -113.80284881591797,45.58380889892578 L -113.82157897949219,45.60071563720703 L -113.85111999511719,45.609642028808594 L -113.90239715576172,45.61357116699219 L -113.90129089355469,45.637332916259766 L -113.92262268066406,45.65520477294922 L -113.92578887939453,45.67129135131836 L -113.9632339477539,45.67945861816406 L -113.9702377319336,45.69745635986328 L -114.00856018066406,45.6864128112793 L -114.01896667480469,45.67245864868164 L -114.01007843017578,45.652591705322266 L -114.01712036132812,45.64085388183594 L -114.05560302734375,45.62522506713867 L -114.0820541381836,45.58646011352539 L -114.11722564697266,45.57120895385742 L -114.13113403320312,45.55046463012695 L -114.1717529296875,45.54400634765625 L -114.19389343261719,45.52799987792969 L -114.24108123779297,45.53537368774414 L -114.24696350097656,45.503028869628906 L -114.26132202148438,45.48594284057617 L -114.32551574707031,45.4575080871582 L -114.34932708740234,45.46346664428711 L -114.37053680419922,45.48582458496094 L -114.41812896728516,45.49909210205078 L -114.43263244628906,45.52771759033203 L -114.46178436279297,45.54793167114258 L -114.49566650390625,45.54673385620117 L -114.5264663696289,45.55827713012695 L -114.55999755859375,45.548824310302734 L -114.54003143310547,45.59648132324219 L -114.56375122070312,45.62435531616211 L -114.50081634521484,45.6524772644043 L -114.50978088378906,45.67414093017578 L -114.49663543701172,45.69448471069336 L -114.53404998779297,45.723079681396484 L -114.54103088378906,45.7460823059082 L -114.56261444091797,45.762481689453125 L -114.51644897460938,45.810150146484375 L -114.49823760986328,45.84276580810547 L -114.4728775024414,45.83955001831055 L -114.44230651855469,45.85270309448242 L -114.40660095214844,45.846534729003906 L -114.39191436767578,45.870967864990234 L -114.41260528564453,45.91073226928711 L -114.42853546142578,45.92155838012695 L -114.40436553955078,45.95405960083008 L -114.4115219116211,45.97205352783203 L -114.48352813720703,45.98988723754883 L -114.47360229492188,46.00984573364258 L -114.49339294433594,46.02349090576172 L -114.46482849121094,46.05089569091797 L -114.4551010131836,46.08230972290039 L -114.4764404296875,46.10743713378906 L -114.5056381225586,46.1162223815918 L -114.51801300048828,46.13614273071289 L -114.50868225097656,46.15749740600586 L -114.4660873413086,46.15534210205078 L -114.43994903564453,46.16904830932617 L -114.4386215209961,46.220333099365234 L -114.4719009399414,46.24386215209961 L -114.47286224365234,46.2530403137207 L -114.43086242675781,46.2847900390625 L -114.40885925292969,46.39299011230469 L -114.39608001708984,46.39962387084961 L -114.38308715820312,46.42825698852539 L -114.40977478027344,46.487449645996094 L -114.35952758789062,46.506202697753906 L -114.34917449951172,46.5174674987793 L -114.34237670898438,46.58795928955078 L -114.32376861572266,46.62291717529297 L -114.333740234375,46.65430450439453 L -114.38307189941406,46.66167449951172 L -114.44058990478516,46.64579391479492 L -114.48377227783203,46.623653411865234 L -114.53944396972656,46.637969970703125 L -114.60987854003906,46.629127502441406 L -114.64379119873047,46.66090393066406 L -114.64408874511719,46.67100143432617 L -114.6249771118164,46.68718719482422 L -114.67293548583984,46.73480224609375 L -114.69747924804688,46.73384094238281 L -114.74715423583984,46.695213317871094 L -114.78196716308594,46.703121185302734 L -114.7768783569336,46.75579833984375 L -114.79307556152344,46.7666130065918 L -114.83983612060547,46.77561950683594 L -114.86564636230469,46.79712677001953 L -114.9013671875,46.79951477050781 L -114.94744873046875,46.8525276184082 L -114.93960571289062,46.890968322753906 L -114.92316436767578,46.90724563598633 L -114.9637680053711,46.92529296875 L -115.0006103515625,46.95888900756836 L -115.03636932373047,46.96308135986328 L -115.05467224121094,46.97343826293945 L -115.08036804199219,47.02660369873047 L -115.13453674316406,47.063629150390625 L -115.14771270751953,47.091819763183594 L -115.17152404785156,47.09764862060547 L -115.19210052490234,47.12410354614258 L -115.29525756835938,47.17962646484375 L -115.32424926757812,47.24522399902344 L -115.34268188476562,47.255096435546875 L -115.4072265625,47.263668060302734 L -115.4256591796875,47.27444839477539 L -115.50094604492188,47.28171920776367 L -115.52207946777344,47.292057037353516 L -115.55453491210938,47.334686279296875 L -115.59854888916016,47.37007522583008 L -115.6377944946289,47.3801155090332 L -115.66548919677734,47.39923858642578 L -115.74933624267578,47.42254638671875 L -115.74911499023438,47.43403625488281 L -115.73149108886719,47.44537353515625 L -115.65509796142578,47.449249267578125 L -115.64219665527344,47.457862854003906 L -115.63915252685547,47.475303649902344 L -115.69178009033203,47.48960876464844 L -115.70053100585938,47.52096176147461 L -115.74183654785156,47.53376007080078 L -115.69109344482422,47.590789794921875 L -115.6972885131836,47.61614990234375 L -115.73307037353516,47.639949798583984 L -115.732666015625,47.69562530517578 L -115.77472686767578,47.70980453491211 L -115.78953552246094,47.744911193847656 L -115.83573913574219,47.75635528564453 L -115.84832000732422,47.80525588989258 L -115.86880493164062,47.8275260925293 L -115.90291595458984,47.841148376464844 L -115.93683624267578,47.8671989440918 L -115.9979248046875,47.92521667480469 L -116.02430725097656,47.96501541137695 L -116.05248260498047,47.97626876831055 L -116.05449676513672,48.20854949951172 L -116.05567932128906,48.49872589111328 L -116.0625,48.999996185302734 L -114.72833251953125,49.0 L -114.0625,49.0 L -112.1875,48.999996185302734 L -111.28187561035156,49.0 L -111.25031281,49.0 L -111.25,49.0 L -111.24362183,49.00000381 L -111.07432556,49.00006866 L -111.00269318,49.00000381 L -111.0,49.0 L -110.99971008,49.0 L -110.99699402,49.00000381 L -110.99347687,49.00000763 L -110.76078796,49.0 L -110.75,49.0 L -109.5,48.999996185302734 L -108.25,48.999996185302734 L -107.1875,48.999996185302734 L -106.125,48.999996185302734 L -105.0625,48.999996185302734 L -104.0625,49.0 L -104.05182647705078,48.64579772949219 L -104.05162048339844,48.390995025634766 L -104.04793548583984,48.00006103515625 L -104.04682159423828,47.400001525878906 L -104.04544067382812,47.33381652832031 L -104.04695129394531,46.64293670654297 L -104.04621887207031,46.54253005981445 L -104.04734802246094,46.28087615966797 L -104.04841613769531,45.9429931640625 L -104.04902648925781,45.883052825927734 L -104.0433578491211,45.212886810302734 L -104.0425796508789,44.99781799316406 L -104.0593490600586,44.99734878540039 L -105.041259765625,45.00109100341797 L -105.08446502685547,44.99983215332031 L -106.02057647705078,44.99722671508789 L -106.2586441040039,44.99617385864258 L -107.89371490478516,44.999813079833984 L -108.2585678100586,45.000160217285156 L -108.62457275390625,44.997642517089844 L -109.79865264892578,44.99958038330078 L -109.99478912353516,45.00285339355469 L -110.39200592041016,44.998687744140625 L -110.42889404296875,44.992347717285156 L -111.05265045166016,44.995765686035156 L -111.05084228515625,44.6645622253418 L -111.05078887939453,44.47339630126953 L -111.09385681152344,44.48619842529297 L -111.12814331054688,44.500831604003906 L -111.13358306884766,44.527976989746094 L -111.16946411132812,44.54526138305664 L -111.17798614501953,44.56492614746094 L -111.2187271118164,44.573246002197266 L -111.23345184326172,44.602638244628906 L -111.2190170288086,44.61805725097656 L -111.22319030761719,44.626983642578125 L -111.26988220214844,44.64228820800781 L -111.26942443847656,44.67387771606445 L -111.29488372802734,44.683013916015625 L -111.31468963623047,44.70526885986328 L -111.31843566894531,44.72793960571289 L -111.34918975830078,44.726253509521484 L -111.37152099609375,44.74516296386719 L -111.38417053222656,44.737770080566406 L -111.39429473876953,44.708946228027344 L -111.44284057617188,44.7132568359375 L -111.4746322631836,44.702239990234375 L -111.48001098632812,44.69149398803711 L -111.45989990234375,44.670101165771484 L -111.45747375488281,44.65263366699219 L -111.46937561035156,44.64078903198242 L -111.50689697265625,44.63776779174805 L -111.5009536743164,44.616050720214844 L -111.51373291015625,44.59327697753906 L -111.49211120605469,44.55126953125 L -111.4620361328125,44.55002212524414 L -111.45853424072266,44.538002014160156 z\" /></g></svg>"
      ],
      "text/plain": [
       "<shapely.geometry.polygon.Polygon at 0x7fc1836719d0>"
      ]
     },
     "execution_count": 73,
     "metadata": {},
     "output_type": "execute_result"
    }
   ],
   "source": [
    "m_pe.iloc[0].geometry"
   ]
  },
  {
   "cell_type": "code",
   "execution_count": 74,
   "id": "94106a84-edb9-4205-be5b-b153666be9dd",
   "metadata": {
    "tags": []
   },
   "outputs": [
    {
     "data": {
      "image/svg+xml": [
       "<svg xmlns=\"http://www.w3.org/2000/svg\" xmlns:xlink=\"http://www.w3.org/1999/xlink\" width=\"100.0\" height=\"100.0\" viewBox=\"-116.54329681396484 43.87293243408203 12.981513977050781 5.6078643798828125\" preserveAspectRatio=\"xMinYMin meet\"><g transform=\"matrix(1,0,0,-1,0,93.35372924804688)\"><path fill-rule=\"evenodd\" fill=\"#66cc99\" stroke=\"#555555\" stroke-width=\"0.25963027954101564\" opacity=\"0.6\" d=\"M -111.4746322631836,44.702239990234375 L -111.48001098632812,44.69149398803711 L -111.45989990234375,44.670101165771484 L -111.45747375488281,44.65263366699219 L -111.46937561035156,44.64078903198242 L -111.50689697265625,44.63776779174805 L -111.5009536743164,44.616050720214844 L -111.51373291015625,44.59327697753906 L -111.49211120605469,44.55126953125 L -111.4620361328125,44.55002212524414 L -111.45853424072266,44.538002014160156 L -111.48178100585938,44.536224365234375 L -111.48944854736328,44.528778076171875 L -111.56643676757812,44.552947998046875 L -111.60445404052734,44.54307174682617 L -111.68406677246094,44.55083465576172 L -111.71620178222656,44.533843994140625 L -111.76612091064453,44.5189094543457 L -111.79180908203125,44.51854705810547 L -111.80703735351562,44.504066467285156 L -111.87169647216797,44.55635070800781 L -111.9395751953125,44.54981231689453 L -111.97700500488281,44.529762268066406 L -112.02279663085938,44.53512954711914 L -112.02626037597656,44.52293014526367 L -112.05854797363281,44.5286979675293 L -112.09907531738281,44.51831817626953 L -112.12336730957031,44.52833938598633 L -112.1988296508789,44.53153610229492 L -112.21693420410156,44.53858184814453 L -112.22956848144531,44.55957794189453 L -112.25584411621094,44.56005859375 L -112.28150939941406,44.54179000854492 L -112.3416748046875,44.52518844604492 L -112.3397445678711,44.49726867675781 L -112.36675262451172,44.44935989379883 L -112.419921875,44.44937515258789 L -112.45768737792969,44.46892547607422 L -112.50100708007812,44.46308898925781 L -112.53849029541016,44.47758865356445 L -112.65235137939453,44.480892181396484 L -112.71348571777344,44.49702453613281 L -112.73287200927734,44.48440933227539 L -112.77902221679688,44.4740104675293 L -112.7953872680664,44.458099365234375 L -112.82585144042969,44.421173095703125 L -112.81787109375,44.3949089050293 L -112.81655883789062,44.36429214477539 L -112.84343719482422,44.353729248046875 L -112.86994171142578,44.37006759643555 L -112.88646697998047,44.392940521240234 L -112.93743896484375,44.40727996826172 L -112.98440551757812,44.43562698364258 L -113.01116943359375,44.437801361083984 L -113.00581359863281,44.452701568603516 L -113.01946258544922,44.48186111450195 L -113.00686645507812,44.51069641113281 L -113.03697204589844,44.533042907714844 L -113.03881072998047,44.55637741088867 L -113.08218383789062,44.582763671875 L -113.05343627929688,44.62437057495117 L -113.0722885131836,44.67560577392578 L -113.09809875488281,44.69599533081055 L -113.10084533691406,44.71525192260742 L -113.12657165527344,44.737457275390625 L -113.13741302490234,44.76151657104492 L -113.23947143554688,44.81191635131836 L -113.25628662109375,44.81056213378906 L -113.31781005859375,44.780303955078125 L -113.33975982666016,44.779075622558594 L -113.34915161132812,44.80764389038086 L -113.42050170898438,44.83377456665039 L -113.44469451904297,44.851314544677734 L -113.49530792236328,44.93074417114258 L -113.48646545410156,44.93964767456055 L -113.46253204345703,44.94084930419922 L -113.44788360595703,44.9495964050293 L -113.44014739990234,44.998268127441406 L -113.45796966552734,45.027523040771484 L -113.45455169677734,45.04342269897461 L -113.48542022705078,45.05839538574219 L -113.48927307128906,45.071292877197266 L -113.51972198486328,45.08213806152344 L -113.50933837890625,45.10791015625 L -113.55138397216797,45.10762405395508 L -113.573486328125,45.1177864074707 L -113.57069396972656,45.134620666503906 L -113.59320831298828,45.149818420410156 L -113.60003662109375,45.181068420410156 L -113.64469909667969,45.20686721801758 L -113.68922424316406,45.262359619140625 L -113.68781280517578,45.27786636352539 L -113.7381820678711,45.32160949707031 L -113.74040985107422,45.38246536254883 L -113.77412414550781,45.41025161743164 L -113.78475952148438,45.44571304321289 L -113.76826477050781,45.477787017822266 L -113.77140045166016,45.50713348388672 L -113.780029296875,45.516944885253906 L -113.83280944824219,45.51498794555664 L -113.80284881591797,45.58380889892578 L -113.82157897949219,45.60071563720703 L -113.85111999511719,45.609642028808594 L -113.90239715576172,45.61357116699219 L -113.90129089355469,45.637332916259766 L -113.92262268066406,45.65520477294922 L -113.92578887939453,45.67129135131836 L -113.9632339477539,45.67945861816406 L -113.9702377319336,45.69745635986328 L -114.00856018066406,45.6864128112793 L -114.01896667480469,45.67245864868164 L -114.01007843017578,45.652591705322266 L -114.01712036132812,45.64085388183594 L -114.05560302734375,45.62522506713867 L -114.0820541381836,45.58646011352539 L -114.11722564697266,45.57120895385742 L -114.13113403320312,45.55046463012695 L -114.1717529296875,45.54400634765625 L -114.19389343261719,45.52799987792969 L -114.24108123779297,45.53537368774414 L -114.24696350097656,45.503028869628906 L -114.26132202148438,45.48594284057617 L -114.32551574707031,45.4575080871582 L -114.34932708740234,45.46346664428711 L -114.37053680419922,45.48582458496094 L -114.41812896728516,45.49909210205078 L -114.43263244628906,45.52771759033203 L -114.46178436279297,45.54793167114258 L -114.49566650390625,45.54673385620117 L -114.5264663696289,45.55827713012695 L -114.55999755859375,45.548824310302734 L -114.54003143310547,45.59648132324219 L -114.56375122070312,45.62435531616211 L -114.50081634521484,45.6524772644043 L -114.50978088378906,45.67414093017578 L -114.49663543701172,45.69448471069336 L -114.53404998779297,45.723079681396484 L -114.54103088378906,45.7460823059082 L -114.56261444091797,45.762481689453125 L -114.51644897460938,45.810150146484375 L -114.49823760986328,45.84276580810547 L -114.4728775024414,45.83955001831055 L -114.44230651855469,45.85270309448242 L -114.40660095214844,45.846534729003906 L -114.39191436767578,45.870967864990234 L -114.41260528564453,45.91073226928711 L -114.42853546142578,45.92155838012695 L -114.40436553955078,45.95405960083008 L -114.4115219116211,45.97205352783203 L -114.48352813720703,45.98988723754883 L -114.47360229492188,46.00984573364258 L -114.49339294433594,46.02349090576172 L -114.46482849121094,46.05089569091797 L -114.4551010131836,46.08230972290039 L -114.4764404296875,46.10743713378906 L -114.5056381225586,46.1162223815918 L -114.51801300048828,46.13614273071289 L -114.50868225097656,46.15749740600586 L -114.4660873413086,46.15534210205078 L -114.43994903564453,46.16904830932617 L -114.4386215209961,46.220333099365234 L -114.4719009399414,46.24386215209961 L -114.47286224365234,46.2530403137207 L -114.43086242675781,46.2847900390625 L -114.40885925292969,46.39299011230469 L -114.39608001708984,46.39962387084961 L -114.38308715820312,46.42825698852539 L -114.40977478027344,46.487449645996094 L -114.35952758789062,46.506202697753906 L -114.34917449951172,46.5174674987793 L -114.34237670898438,46.58795928955078 L -114.32376861572266,46.62291717529297 L -114.333740234375,46.65430450439453 L -114.38307189941406,46.66167449951172 L -114.44058990478516,46.64579391479492 L -114.48377227783203,46.623653411865234 L -114.53944396972656,46.637969970703125 L -114.60987854003906,46.629127502441406 L -114.64379119873047,46.66090393066406 L -114.64408874511719,46.67100143432617 L -114.6249771118164,46.68718719482422 L -114.67293548583984,46.73480224609375 L -114.69747924804688,46.73384094238281 L -114.74715423583984,46.695213317871094 L -114.78196716308594,46.703121185302734 L -114.7768783569336,46.75579833984375 L -114.79307556152344,46.7666130065918 L -114.83983612060547,46.77561950683594 L -114.86564636230469,46.79712677001953 L -114.9013671875,46.79951477050781 L -114.94744873046875,46.8525276184082 L -114.93960571289062,46.890968322753906 L -114.92316436767578,46.90724563598633 L -114.9637680053711,46.92529296875 L -115.0006103515625,46.95888900756836 L -115.03636932373047,46.96308135986328 L -115.05467224121094,46.97343826293945 L -115.08036804199219,47.02660369873047 L -115.13453674316406,47.063629150390625 L -115.14771270751953,47.091819763183594 L -115.17152404785156,47.09764862060547 L -115.19210052490234,47.12410354614258 L -115.29525756835938,47.17962646484375 L -115.32424926757812,47.24522399902344 L -115.34268188476562,47.255096435546875 L -115.4072265625,47.263668060302734 L -115.4256591796875,47.27444839477539 L -115.50094604492188,47.28171920776367 L -115.52207946777344,47.292057037353516 L -115.55453491210938,47.334686279296875 L -115.59854888916016,47.37007522583008 L -115.6377944946289,47.3801155090332 L -115.66548919677734,47.39923858642578 L -115.74933624267578,47.42254638671875 L -115.74911499023438,47.43403625488281 L -115.73149108886719,47.44537353515625 L -115.65509796142578,47.449249267578125 L -115.64219665527344,47.457862854003906 L -115.63915252685547,47.475303649902344 L -115.69178009033203,47.48960876464844 L -115.70053100585938,47.52096176147461 L -115.74183654785156,47.53376007080078 L -115.69109344482422,47.590789794921875 L -115.6972885131836,47.61614990234375 L -115.73307037353516,47.639949798583984 L -115.732666015625,47.69562530517578 L -115.77472686767578,47.70980453491211 L -115.78953552246094,47.744911193847656 L -115.83573913574219,47.75635528564453 L -115.84832000732422,47.80525588989258 L -115.86880493164062,47.8275260925293 L -115.90291595458984,47.841148376464844 L -115.93683624267578,47.8671989440918 L -115.9979248046875,47.92521667480469 L -116.02430725097656,47.96501541137695 L -116.05248260498047,47.97626876831055 L -116.05449676513672,48.20854949951172 L -116.05567932128906,48.49872589111328 L -116.0625,48.999996185302734 L -114.72833251953125,49.0 L -114.0625,49.0 L -112.1875,48.999996185302734 L -111.28187561035156,49.0 L -110.75,49.0 L -109.5,48.999996185302734 L -108.25,48.999996185302734 L -107.1875,48.999996185302734 L -106.125,48.999996185302734 L -105.0625,48.999996185302734 L -104.0625,49.0 L -104.05182647705078,48.64579772949219 L -104.05162048339844,48.390995025634766 L -104.04793548583984,48.00006103515625 L -104.04682159423828,47.400001525878906 L -104.04544067382812,47.33381652832031 L -104.04695129394531,46.64293670654297 L -104.04621887207031,46.54253005981445 L -104.04734802246094,46.28087615966797 L -104.04841613769531,45.9429931640625 L -104.04902648925781,45.883052825927734 L -104.0433578491211,45.212886810302734 L -104.0425796508789,44.99781799316406 L -104.0593490600586,44.99734878540039 L -105.041259765625,45.00109100341797 L -105.08446502685547,44.99983215332031 L -106.02057647705078,44.99722671508789 L -106.2586441040039,44.99617385864258 L -107.89371490478516,44.999813079833984 L -108.2585678100586,45.000160217285156 L -108.62457275390625,44.997642517089844 L -109.79865264892578,44.99958038330078 L -109.99478912353516,45.00285339355469 L -110.39200592041016,44.998687744140625 L -110.42889404296875,44.992347717285156 L -111.05265045166016,44.995765686035156 L -111.05084228515625,44.6645622253418 L -111.05078887939453,44.47339630126953 L -111.09385681152344,44.48619842529297 L -111.12814331054688,44.500831604003906 L -111.13358306884766,44.527976989746094 L -111.16946411132812,44.54526138305664 L -111.17798614501953,44.56492614746094 L -111.2187271118164,44.573246002197266 L -111.23345184326172,44.602638244628906 L -111.2190170288086,44.61805725097656 L -111.22319030761719,44.626983642578125 L -111.26988220214844,44.64228820800781 L -111.26942443847656,44.67387771606445 L -111.29488372802734,44.683013916015625 L -111.31468963623047,44.70526885986328 L -111.31843566894531,44.72793960571289 L -111.34918975830078,44.726253509521484 L -111.37152099609375,44.74516296386719 L -111.38417053222656,44.737770080566406 L -111.39429473876953,44.708946228027344 L -111.44284057617188,44.7132568359375 L -111.4746322631836,44.702239990234375 z\" /></g></svg>"
      ],
      "text/plain": [
       "<shapely.geometry.polygon.Polygon at 0x7fc183766f90>"
      ]
     },
     "execution_count": 74,
     "metadata": {},
     "output_type": "execute_result"
    }
   ],
   "source": [
    "m_npe.iloc[0].geometry"
   ]
  },
  {
   "cell_type": "code",
   "execution_count": 78,
   "id": "7264a7c2-ba20-4da3-8806-c37182ae475f",
   "metadata": {},
   "outputs": [
    {
     "data": {
      "text/plain": [
       "<AxesSubplot:>"
      ]
     },
     "execution_count": 78,
     "metadata": {},
     "output_type": "execute_result"
    },
    {
     "data": {
      "image/png": "[encoded data removed]",
      "text/plain": [
       "<Figure size 432x288 with 1 Axes>"
      ]
     },
     "metadata": {
      "needs_background": "light"
     },
     "output_type": "display_data"
    }
   ],
   "source": [
    "m_pe.tail(1).plot()"
   ]
  },
  {
   "cell_type": "code",
   "execution_count": 79,
   "id": "546f5ee3-c217-41df-8536-fe99ebe6cbd0",
   "metadata": {},
   "outputs": [
    {
     "data": {
      "text/plain": [
       "<AxesSubplot:>"
      ]
     },
     "execution_count": 79,
     "metadata": {},
     "output_type": "execute_result"
    },
    {
     "data": {
      "image/png": "[encoded data removed]",
      "text/plain": [
       "<Figure size 432x288 with 1 Axes>"
      ]
     },
     "metadata": {
      "needs_background": "light"
     },
     "output_type": "display_data"
    }
   ],
   "source": [
    "m_npe.tail(1).plot()"
   ]
  },
  {
   "cell_type": "markdown",
   "id": "6acd7563-4897-4ba7-b6d0-6091c4b83f26",
   "metadata": {
    "tags": []
   },
   "source": [
    "## US- Texas\n",
    "- Not At the border\n",
    "- Ratio of areas = 1\n",
    "- Centroids Geometries Equals Exact= True"
   ]
  },
  {
   "cell_type": "code",
   "execution_count": 80,
   "id": "4f368385-f9c8-4b9b-9603-65d0c80bf074",
   "metadata": {},
   "outputs": [],
   "source": [
    "tx_pe = planar_enforced_area[planar_enforced_area.STATE_NAME==\"Texas\"] "
   ]
  },
  {
   "cell_type": "code",
   "execution_count": 81,
   "id": "eae00080-eeb7-4298-ae27-88ceba6803ab",
   "metadata": {},
   "outputs": [],
   "source": [
    "tx_npe = non_planar_enforced_area[non_planar_enforced_area.STATE_NAME==\"Texas\"] "
   ]
  },
  {
   "cell_type": "code",
   "execution_count": 84,
   "id": "a6309cb8-92e6-4d27-bd31-484ae7ecdef4",
   "metadata": {},
   "outputs": [],
   "source": [
    "tx_pe = tx_pe.explode()\n",
    "tx_npe = tx_npe.explode()"
   ]
  },
  {
   "cell_type": "code",
   "execution_count": 85,
   "id": "da841eed-d071-457a-85e1-753fb28df578",
   "metadata": {},
   "outputs": [
    {
     "data": {
      "image/svg+xml": [
       "<svg xmlns=\"http://www.w3.org/2000/svg\" xmlns:xlink=\"http://www.w3.org/1999/xlink\" width=\"100.0\" height=\"100.0\" viewBox=\"-97.06122436523438 27.82933578491211 0.23541717529298012 0.31368713378905966\" preserveAspectRatio=\"xMinYMin meet\"><g transform=\"matrix(1,0,0,-1,0,55.97235870361328)\"><path fill-rule=\"evenodd\" fill=\"#66cc99\" stroke=\"#555555\" stroke-width=\"0.006273742675781193\" opacity=\"0.6\" d=\"M -96.9399642944336,28.04593276977539 L -96.87242126464844,28.131404876708984 L -96.8374252319336,28.10184097290039 L -96.85380554199219,28.049402236938477 L -97.04960632324219,27.840953826904297 L -97.02442932128906,27.91438102722168 L -96.94938659667969,27.984525680541992 L -96.9729995727539,28.000852584838867 L -96.9399642944336,28.04593276977539 z\" /></g></svg>"
      ],
      "text/plain": [
       "<shapely.geometry.polygon.Polygon at 0x7fc186cd8350>"
      ]
     },
     "execution_count": 85,
     "metadata": {},
     "output_type": "execute_result"
    }
   ],
   "source": [
    "tx_pe.iloc[3].geometry"
   ]
  },
  {
   "cell_type": "code",
   "execution_count": 86,
   "id": "42fc8296-b0ba-4634-be8d-bcd134b78db6",
   "metadata": {
    "tags": []
   },
   "outputs": [
    {
     "data": {
      "image/svg+xml": [
       "<svg xmlns=\"http://www.w3.org/2000/svg\" xmlns:xlink=\"http://www.w3.org/1999/xlink\" width=\"100.0\" height=\"100.0\" viewBox=\"-97.06122436523438 27.82933578491211 0.23541717529298012 0.31368713378905966\" preserveAspectRatio=\"xMinYMin meet\"><g transform=\"matrix(1,0,0,-1,0,55.97235870361328)\"><path fill-rule=\"evenodd\" fill=\"#66cc99\" stroke=\"#555555\" stroke-width=\"0.006273742675781193\" opacity=\"0.6\" d=\"M -96.9399642944336,28.04593276977539 L -96.87242126464844,28.131404876708984 L -96.8374252319336,28.10184097290039 L -96.85380554199219,28.049402236938477 L -97.04960632324219,27.840953826904297 L -97.02442932128906,27.91438102722168 L -96.94938659667969,27.984525680541992 L -96.9729995727539,28.000852584838867 L -96.9399642944336,28.04593276977539 z\" /></g></svg>"
      ],
      "text/plain": [
       "<shapely.geometry.polygon.Polygon at 0x7fc186d15e90>"
      ]
     },
     "execution_count": 86,
     "metadata": {},
     "output_type": "execute_result"
    }
   ],
   "source": [
    "tx_npe.iloc[3].geometry"
   ]
  },
  {
   "cell_type": "code",
   "execution_count": 87,
   "id": "64c4a1e4-d098-4227-97a6-c975a9a17382",
   "metadata": {},
   "outputs": [
    {
     "data": {
      "text/plain": [
       "<AxesSubplot:>"
      ]
     },
     "execution_count": 87,
     "metadata": {},
     "output_type": "execute_result"
    },
    {
     "data": {
      "image/png": "[encoded data removed]",
      "text/plain": [
       "<Figure size 432x288 with 1 Axes>"
      ]
     },
     "metadata": {
      "needs_background": "light"
     },
     "output_type": "display_data"
    }
   ],
   "source": [
    "tx_pe.tail(5).plot()"
   ]
  },
  {
   "cell_type": "code",
   "execution_count": 88,
   "id": "841d9ca4-ab50-4751-a279-0ccffc6ec3d7",
   "metadata": {},
   "outputs": [
    {
     "data": {
      "text/plain": [
       "<AxesSubplot:>"
      ]
     },
     "execution_count": 88,
     "metadata": {},
     "output_type": "execute_result"
    },
    {
     "data": {
      "image/png": "[encoded data removed]",
      "text/plain": [
       "<Figure size 432x288 with 1 Axes>"
      ]
     },
     "metadata": {
      "needs_background": "light"
     },
     "output_type": "display_data"
    }
   ],
   "source": [
    "tx_npe.tail(5).plot()"
   ]
  },
  {
   "cell_type": "markdown",
   "id": "3c27b83f-0822-48f9-9b90-02bd8611e774",
   "metadata": {
    "tags": []
   },
   "source": [
    "## US- Maine\n",
    "- At the border \n",
    "- Ratio of area >1 \n",
    "- Centroids Geometries Equals Exact= False"
   ]
  },
  {
   "cell_type": "code",
   "execution_count": 89,
   "id": "70216565-9586-408e-9701-3845a2d9c63e",
   "metadata": {},
   "outputs": [],
   "source": [
    "maine_pe = planar_enforced_area[planar_enforced_area.STATE_NAME==\"Maine\"] "
   ]
  },
  {
   "cell_type": "code",
   "execution_count": 90,
   "id": "862f56fc-20ce-49f8-a0b1-b86ff16705e8",
   "metadata": {
    "tags": []
   },
   "outputs": [],
   "source": [
    "maine_npe = non_planar_enforced_area[non_planar_enforced_area.STATE_NAME==\"Maine\"] "
   ]
  },
  {
   "cell_type": "code",
   "execution_count": 91,
   "id": "b3e6423a-831e-4818-babf-8480bc760594",
   "metadata": {},
   "outputs": [],
   "source": [
    "maine_pe = maine_pe.explode()\n",
    "maine_npe = maine_npe.explode()"
   ]
  },
  {
   "cell_type": "code",
   "execution_count": 92,
   "id": "d7a21ab4-5100-4e5f-b68d-4f50c13d7818",
   "metadata": {},
   "outputs": [
    {
     "data": {
      "image/svg+xml": [
       "<svg xmlns=\"http://www.w3.org/2000/svg\" xmlns:xlink=\"http://www.w3.org/1999/xlink\" width=\"100.0\" height=\"100.0\" viewBox=\"-68.41295166015625 44.21547393798828 0.2571624755859432 0.23153533935547443\" preserveAspectRatio=\"xMinYMin meet\"><g transform=\"matrix(1,0,0,-1,0,88.66248321533203)\"><path fill-rule=\"evenodd\" fill=\"#66cc99\" stroke=\"#555555\" stroke-width=\"0.005143249511718863\" opacity=\"0.6\" d=\"M -68.23925018310547,44.43748474121094 L -68.16531372070312,44.334415435791016 L -68.30524444580078,44.28995132446289 L -68.32125091552734,44.224998474121094 L -68.40342712402344,44.270721435546875 L -68.38845825195312,44.377174377441406 L -68.35079193115234,44.39887237548828 L -68.35598754882812,44.42877960205078 L -68.23925018310547,44.43748474121094 z\" /></g></svg>"
      ],
      "text/plain": [
       "<shapely.geometry.polygon.Polygon at 0x7fc18714ed10>"
      ]
     },
     "execution_count": 92,
     "metadata": {},
     "output_type": "execute_result"
    }
   ],
   "source": [
    "maine_pe.iloc[0].geometry"
   ]
  },
  {
   "cell_type": "code",
   "execution_count": 93,
   "id": "2b20090d-9f2b-4d29-8da4-c0eade5eb63a",
   "metadata": {},
   "outputs": [
    {
     "data": {
      "image/svg+xml": [
       "<svg xmlns=\"http://www.w3.org/2000/svg\" xmlns:xlink=\"http://www.w3.org/1999/xlink\" width=\"100.0\" height=\"100.0\" viewBox=\"-71.26248321533203 42.9164680480957 4.467127990722645 4.711322021484378\" preserveAspectRatio=\"xMinYMin meet\"><g transform=\"matrix(1,0,0,-1,0,90.54425811767578)\"><path fill-rule=\"evenodd\" fill=\"#66cc99\" stroke=\"#555555\" stroke-width=\"0.09422644042968756\" opacity=\"0.6\" d=\"M -69.77778625488281,44.074073791503906 L -69.86043548583984,43.99992370605469 L -69.79203796386719,43.75600051879883 L -69.83090209960938,43.727901458740234 L -69.852294921875,43.74424362182617 L -69.84666442871094,43.842262268066406 L -69.88729858398438,43.87663269042969 L -69.90364074707031,43.7906494140625 L -69.9734115600586,43.76876449584961 L -70.00000762939453,43.78612518310547 L -69.98787689208984,43.84565734863281 L -70.02690887451172,43.84552001953125 L -70.15713500976562,43.789730072021484 L -70.2363052368164,43.68571472167969 L -70.22274780273438,43.57715606689453 L -70.34211730957031,43.53482437133789 L -70.3664321899414,43.43021774291992 L -70.45748138427734,43.34938430786133 L -70.53944396972656,43.33563232421875 L -70.66617584228516,43.09096145629883 L -70.81916809082031,43.12178421020508 L -70.83104705810547,43.159088134765625 L -70.81370544433594,43.235137939453125 L -70.90158081054688,43.28093719482422 L -70.90629577636719,43.30198669433594 L -70.9701919555664,43.36629867553711 L -70.9795913696289,43.39610290527344 L -70.96197509765625,43.438045501708984 L -70.97128295898438,43.470130920410156 L -70.95977020263672,43.51630783081055 L -70.96475982666016,43.53190994262695 L -70.95011138916016,43.54887390136719 L -70.95701599121094,43.564064025878906 L -70.974365234375,43.57175064086914 L -70.98493194580078,43.79108810424805 L -71.00907897949219,44.282081604003906 L -71.02920532226562,44.66848373413086 L -71.0879898071289,45.301422119140625 L -70.9598617553711,45.33881759643555 L -70.8769302368164,45.22539520263672 L -70.8433609008789,45.2780876159668 L -70.81314849853516,45.35462951660156 L -70.8296127319336,45.39067840576172 L -70.79744720458984,45.42512512207031 L -70.63541412353516,45.39191818237305 L -70.72039031982422,45.512908935546875 L -70.55274963378906,45.66061782836914 L -70.39686584472656,45.72200012207031 L -70.41669464111328,45.79026412963867 L -70.25444793701172,45.898963928222656 L -70.2479476928711,45.944580078125 L -70.31077575683594,45.96874237060547 L -70.28050231933594,46.05311584472656 L -70.30532836914062,46.066619873046875 L -70.22980499267578,46.13739776611328 L -70.28397369384766,46.19021224975586 L -70.19153594970703,46.33480453491211 L -70.04708862304688,46.426082611083984 L -70.0146255493164,46.57056427001953 L -69.98545837402344,46.69132995605469 L -69.23078918457031,47.45329666137695 L -69.04747772216797,47.421993255615234 L -69.0372314453125,47.257328033447266 L -68.8953857421875,47.182220458984375 L -68.51518249511719,47.29692459106445 L -68.39176940917969,47.285057067871094 L -68.3353271484375,47.35733413696289 L -68.2313232421875,47.352108001708984 L -67.79154968261719,47.06095886230469 L -67.78083038330078,45.94700622558594 L -67.75615692138672,45.91652297973633 L -67.79511260986328,45.87841796875 L -67.7599105834961,45.82773971557617 L -67.80359649658203,45.79444885253906 L -67.8039779663086,45.67805099487305 L -67.75350189208984,45.65922546386719 L -67.71858215332031,45.681236267089844 L -67.61569213867188,45.605133056640625 L -67.43985748291016,45.59249496459961 L -67.41664123535156,45.50348663330078 L -67.5046615600586,45.485748291015625 L -67.41911315917969,45.37578201293945 L -67.47850799560547,45.280208587646484 L -67.43999481201172,45.189510345458984 L -67.3461685180664,45.12217712402344 L -67.274658203125,45.182708740234375 L -67.16647338867188,45.15618896484375 L -67.15122985839844,45.12191390991211 L -67.06593322753906,44.9592170715332 L -67.14727783203125,44.904502868652344 L -66.9698486328125,44.828575134277344 L -67.00829315185547,44.78054428100586 L -67.20093536376953,44.65370178222656 L -67.30903625488281,44.6534423828125 L -67.38907623291016,44.691322326660156 L -67.5715560913086,44.5982551574707 L -67.61940002441406,44.5401611328125 L -67.81177520751953,44.553932189941406 L -67.85911560058594,44.5359992980957 L -67.90059661865234,44.45232009887695 L -67.9688949584961,44.47114944458008 L -67.9639892578125,44.5052490234375 L -67.98707580566406,44.48473358154297 L -68.0169448852539,44.3848762512207 L -68.0749282836914,44.38129425048828 L -68.13681030273438,44.47515869140625 L -68.24615478515625,44.490570068359375 L -68.36430358886719,44.43130874633789 L -68.42910766601562,44.46522903442383 L -68.55271911621094,44.39897155761719 L -68.53060913085938,44.289756774902344 L -68.5599594116211,44.25980758666992 L -68.74083709716797,44.34625244140625 L -68.8133773803711,44.327354431152344 L -68.81429290771484,44.41391372680664 L -68.74187469482422,44.50720977783203 L -68.74580383300781,44.55224609375 L -68.8240737915039,44.60883331298828 L -68.82433319091797,44.66401672363281 L -68.86112976074219,44.610897064208984 L -68.80842590332031,44.569580078125 L -68.81220245361328,44.4945182800293 L -68.95970153808594,44.43025588989258 L -68.98554992675781,44.271034240722656 L -69.02200317382812,44.244014739990234 L -69.0749740600586,44.06898498535156 L -69.21965026855469,43.94670486450195 L -69.29415893554688,43.942108154296875 L -69.34696197509766,44.01588821411133 L -69.3949966430664,44.025047302246094 L -69.4837417602539,43.88707733154297 L -69.58983612060547,43.84477996826172 L -69.66496276855469,43.852142333984375 L -69.65575408935547,43.98017120361328 L -69.61344146728516,44.03353500366211 L -69.72114562988281,43.93790054321289 L -69.74903869628906,43.89329528808594 L -69.72518157958984,43.784393310546875 L -69.75086975097656,43.761619567871094 L -69.77818298339844,43.79118728637695 L -69.80052185058594,44.026790618896484 L -69.76726531982422,44.04765701293945 L -69.77778625488281,44.074073791503906 z\" /></g></svg>"
      ],
      "text/plain": [
       "<shapely.geometry.polygon.Polygon at 0x7fc18714e610>"
      ]
     },
     "execution_count": 93,
     "metadata": {},
     "output_type": "execute_result"
    }
   ],
   "source": [
    "maine_npe.iloc[0].geometry"
   ]
  },
  {
   "cell_type": "code",
   "execution_count": 94,
   "id": "5ef447b8-0920-4b35-be97-e7c87d687302",
   "metadata": {},
   "outputs": [
    {
     "data": {
      "text/plain": [
       "<AxesSubplot:>"
      ]
     },
     "execution_count": 94,
     "metadata": {},
     "output_type": "execute_result"
    },
    {
     "data": {
      "image/png": "[encoded data removed]",
      "text/plain": [
       "<Figure size 432x288 with 1 Axes>"
      ]
     },
     "metadata": {
      "needs_background": "light"
     },
     "output_type": "display_data"
    }
   ],
   "source": [
    "maine_npe.tail(1).plot()"
   ]
  },
  {
   "cell_type": "code",
   "execution_count": 95,
   "id": "c040dfe8-f704-42fb-9477-7400bbec53d3",
   "metadata": {},
   "outputs": [
    {
     "data": {
      "text/plain": [
       "<AxesSubplot:>"
      ]
     },
     "execution_count": 95,
     "metadata": {},
     "output_type": "execute_result"
    },
    {
     "data": {
      "image/png": "[encoded data removed]",
      "text/plain": [
       "<Figure size 432x288 with 1 Axes>"
      ]
     },
     "metadata": {
      "needs_background": "light"
     },
     "output_type": "display_data"
    }
   ],
   "source": [
    "maine_pe.tail(1).plot()"
   ]
  },
  {
   "cell_type": "code",
   "execution_count": null,
   "id": "77b1547f-64e9-4580-ac3d-12258885feb8",
   "metadata": {},
   "outputs": [],
   "source": []
  }
 ],
 "metadata": {
  "kernelspec": {
   "display_name": "Python 3 (ipykernel)",
   "language": "python",
   "name": "python3"
  },
  "language_info": {
   "codemirror_mode": {
    "name": "ipython",
    "version": 3
   },
   "file_extension": ".py",
   "mimetype": "text/x-python",
   "name": "python",
   "nbconvert_exporter": "python",
   "pygments_lexer": "ipython3",
   "version": "3.7.12"
  }
 },
 "nbformat": 4,
 "nbformat_minor": 5
}
