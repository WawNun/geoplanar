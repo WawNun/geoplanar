{
 "cells": [
  {
   "cell_type": "code",
   "execution_count": 1,
   "id": "meaningful-language",
   "metadata": {},
   "outputs": [],
   "source": [
    "import geopandas\n",
    "import numpy\n",
    "import matplotlib.pyplot as plt\n",
    "import geoplanar\n",
    "import libpysal\n",
    "from shapely.geometry import Polygon\n"
   ]
  },
  {
   "cell_type": "markdown",
   "id": "fb7628ca-3a42-4aeb-a097-de074555375f",
   "metadata": {},
   "source": [
    "## Planar Enforcement Violation: non-planar enforced edges"
   ]
  },
  {
   "cell_type": "code",
   "execution_count": 2,
   "id": "9c681a34-7123-47d7-9d25-cb0eab64fb12",
   "metadata": {},
   "outputs": [
    {
     "data": {
      "image/png": "[encoded data removed]",
      "text/plain": [
       "<Figure size 432x288 with 1 Axes>"
      ]
     },
     "metadata": {
      "needs_background": "light"
     },
     "output_type": "display_data"
    }
   ],
   "source": [
    "p1 = Polygon([[0,0], [0, 10], [10, 10], [10, 0], [0, 0]])\n",
    "p2 = Polygon([[10, 2], [10, 8], [20, 8], [20, 2], [10, 2]])\n",
    "gdf = geopandas.GeoDataFrame(geometry=[p1, p2])\n",
    "_ = gdf.plot(edgecolor='k', facecolor=\"none\",alpha=0.5)"
   ]
  },
  {
   "cell_type": "markdown",
   "id": "2ec4a615-3ab8-4040-b08a-55507b4836c3",
   "metadata": {},
   "source": [
    "The two polygons are visually contiguous, but are not planar enforced as the right edge of the left polygon  and the left edge of right polygon  share no vertices. This will result in the two polygons not being Queen neighbors:"
   ]
  },
  {
   "cell_type": "code",
   "execution_count": 3,
   "id": "1bfd3260-12a5-42ea-bec1-f1c7d5fe4ec5",
   "metadata": {},
   "outputs": [
    {
     "name": "stderr",
     "output_type": "stream",
     "text": [
      "/home/serge/Dropbox/p/pysal/src/subpackages/libpysal/libpysal/weights/weights.py:172: UserWarning: The weights matrix is not fully connected: \n",
      " There are 2 disconnected components.\n",
      " There are 2 islands with ids: 0, 1.\n",
      "  warnings.warn(message)\n"
     ]
    }
   ],
   "source": [
    "w = libpysal.weights.Queen.from_dataframe(gdf)"
   ]
  },
  {
   "cell_type": "markdown",
   "id": "0aab2640-d77b-49d5-915a-b82f8f08d3ae",
   "metadata": {},
   "source": [
    "## Detecting nonplanar edges"
   ]
  },
  {
   "cell_type": "markdown",
   "id": "507a21c1-6315-4fa8-84be-db1d0746f265",
   "metadata": {},
   "source": [
    "`geoplanar` can detect and report nonplanar edges:"
   ]
  },
  {
   "cell_type": "code",
   "execution_count": 4,
   "id": "96e353f4-acee-4225-9f13-a24cd541338c",
   "metadata": {},
   "outputs": [
    {
     "data": {
      "text/plain": [
       "defaultdict(set, {0: {1}})"
      ]
     },
     "execution_count": 4,
     "metadata": {},
     "output_type": "execute_result"
    }
   ],
   "source": [
    "geoplanar.non_planar_edges(gdf)"
   ]
  },
  {
   "cell_type": "markdown",
   "id": "08e61d4e-6603-4a4c-ab54-d4358741fd86",
   "metadata": {},
   "source": [
    "## Fixing nonplanar edges"
   ]
  },
  {
   "cell_type": "code",
   "execution_count": 5,
   "id": "42badcc9-2636-4dee-854e-237b23283307",
   "metadata": {},
   "outputs": [],
   "source": [
    "gdf1 = geoplanar.fix_npe_edges(gdf)"
   ]
  },
  {
   "cell_type": "code",
   "execution_count": 6,
   "id": "5da13f84-22be-4168-a9bb-9c96f23b7d5d",
   "metadata": {},
   "outputs": [
    {
     "data": {
      "text/plain": [
       "defaultdict(set, {})"
      ]
     },
     "execution_count": 6,
     "metadata": {},
     "output_type": "execute_result"
    }
   ],
   "source": [
    "geoplanar.non_planar_edges(gdf1)"
   ]
  },
  {
   "cell_type": "code",
   "execution_count": 7,
   "id": "8af169a0-9b82-44ea-84c5-ec3c40f108df",
   "metadata": {},
   "outputs": [
    {
     "data": {
      "text/plain": [
       "{0: [1], 1: [0]}"
      ]
     },
     "execution_count": 7,
     "metadata": {},
     "output_type": "execute_result"
    }
   ],
   "source": [
    "w1 = libpysal.weights.Queen.from_dataframe(gdf1)\n",
    "w1.neighbors"
   ]
  },
  {
   "cell_type": "markdown",
   "id": "vital-criminal",
   "metadata": {},
   "source": [
    "## Planar Enforcement Violation: Overlapping and non-planar enforced edges"
   ]
  },
  {
   "cell_type": "code",
   "execution_count": 8,
   "id": "clinical-essence",
   "metadata": {},
   "outputs": [],
   "source": [
    "from shapely.geometry import Polygon"
   ]
  },
  {
   "cell_type": "code",
   "execution_count": 9,
   "id": "corresponding-credit",
   "metadata": {},
   "outputs": [],
   "source": [
    "t1 = Polygon([[0,0],[10,10], [20,0]])"
   ]
  },
  {
   "cell_type": "code",
   "execution_count": 10,
   "id": "administrative-thing",
   "metadata": {},
   "outputs": [
    {
     "data": {
      "image/svg+xml": [
       "<svg xmlns=\"http://www.w3.org/2000/svg\" xmlns:xlink=\"http://www.w3.org/1999/xlink\" width=\"100.0\" height=\"100.0\" viewBox=\"-0.8 -0.8 21.6 11.600000000000001\" preserveAspectRatio=\"xMinYMin meet\"><g transform=\"matrix(1,0,0,-1,0,10.0)\"><path fill-rule=\"evenodd\" fill=\"#66cc99\" stroke=\"#555555\" stroke-width=\"0.43200000000000005\" opacity=\"0.6\" d=\"M 0.0,0.0 L 10.0,10.0 L 20.0,0.0 L 0.0,0.0 z\" /></g></svg>"
      ],
      "text/plain": [
       "<shapely.geometry.polygon.Polygon at 0x7fb98cb14460>"
      ]
     },
     "execution_count": 10,
     "metadata": {},
     "output_type": "execute_result"
    }
   ],
   "source": [
    "t1"
   ]
  },
  {
   "cell_type": "code",
   "execution_count": 11,
   "id": "rapid-position",
   "metadata": {},
   "outputs": [
    {
     "data": {
      "image/svg+xml": [
       "<svg xmlns=\"http://www.w3.org/2000/svg\" xmlns:xlink=\"http://www.w3.org/1999/xlink\" width=\"100.0\" height=\"100.0\" viewBox=\"-0.8 -10.8 21.6 16.6\" preserveAspectRatio=\"xMinYMin meet\"><g transform=\"matrix(1,0,0,-1,0,-5.000000000000001)\"><path fill-rule=\"evenodd\" fill=\"#66cc99\" stroke=\"#555555\" stroke-width=\"0.43200000000000005\" opacity=\"0.6\" d=\"M 5.0,5.0 L 20.0,5.0 L 20.0,-10.0 L 0.0,-10.0 L 5.0,5.0 z\" /></g></svg>"
      ],
      "text/plain": [
       "<shapely.geometry.polygon.Polygon at 0x7fb9449ad5b0>"
      ]
     },
     "execution_count": 11,
     "metadata": {},
     "output_type": "execute_result"
    }
   ],
   "source": [
    "b1 = Polygon([[5,5], [20,5], [20,-10], [0,-10]])\n",
    "b1"
   ]
  },
  {
   "cell_type": "code",
   "execution_count": 12,
   "id": "senior-adobe",
   "metadata": {},
   "outputs": [],
   "source": [
    "gdf = geopandas.GeoDataFrame(geometry=[t1,b1])"
   ]
  },
  {
   "cell_type": "code",
   "execution_count": 13,
   "id": "unique-diesel",
   "metadata": {},
   "outputs": [
    {
     "data": {
      "text/plain": [
       "<AxesSubplot:>"
      ]
     },
     "execution_count": 13,
     "metadata": {},
     "output_type": "execute_result"
    },
    {
     "data": {
      "image/png": "[encoded data removed]",
      "text/plain": [
       "<Figure size 432x288 with 1 Axes>"
      ]
     },
     "metadata": {
      "needs_background": "light"
     },
     "output_type": "display_data"
    }
   ],
   "source": [
    "gdf.plot(edgecolor='k',facecolor=\"none\",alpha=0.5) # non planar enforcement"
   ]
  },
  {
   "cell_type": "markdown",
   "id": "fa1d60e9-8528-43de-9d39-75bfb374fca9",
   "metadata": {},
   "source": [
    "The two features overlap and would appear to share vertices, but they in fact do not share vertices. Again, because this violates planar enforncement, this results in two polygons not being Queen neighbors:"
   ]
  },
  {
   "cell_type": "code",
   "execution_count": 14,
   "id": "dfc43ebb-5699-4b67-ab4a-72a97eb766dc",
   "metadata": {},
   "outputs": [
    {
     "name": "stderr",
     "output_type": "stream",
     "text": [
      "/home/serge/Dropbox/p/pysal/src/subpackages/libpysal/libpysal/weights/weights.py:172: UserWarning: The weights matrix is not fully connected: \n",
      " There are 2 disconnected components.\n",
      " There are 2 islands with ids: 0, 1.\n",
      "  warnings.warn(message)\n"
     ]
    }
   ],
   "source": [
    "import libpysal\n",
    "\n",
    "w = libpysal.weights.Queen.from_dataframe(gdf)"
   ]
  },
  {
   "cell_type": "markdown",
   "id": "2850ff30-f057-4b03-9627-d3553cc0ab28",
   "metadata": {},
   "source": [
    "## Detecting nonplanar edges"
   ]
  },
  {
   "cell_type": "markdown",
   "id": "23b60b50-d2ea-49dc-acbc-b940aa3ebfb6",
   "metadata": {},
   "source": [
    "`geoplanar` will use a failed contiguity check as part of a check for nonplanar enforced edges in the polygons of a geoseries:"
   ]
  },
  {
   "cell_type": "code",
   "execution_count": 15,
   "id": "298f8d79-1621-466a-abc9-2eda0c2c189a",
   "metadata": {},
   "outputs": [
    {
     "data": {
      "text/plain": [
       "defaultdict(set, {0: {1}})"
      ]
     },
     "execution_count": 15,
     "metadata": {},
     "output_type": "execute_result"
    }
   ],
   "source": [
    "geoplanar.non_planar_edges(gdf)"
   ]
  },
  {
   "cell_type": "markdown",
   "id": "7e6bde2d-d412-4f1b-b3ed-9f7da4609c6d",
   "metadata": {},
   "source": [
    "## Correcting nonplanar edges"
   ]
  },
  {
   "cell_type": "code",
   "execution_count": 16,
   "id": "ab071c09-7b81-4292-8a78-0b9b7ead234b",
   "metadata": {},
   "outputs": [
    {
     "data": {
      "text/plain": [
       "defaultdict(set, {})"
      ]
     },
     "execution_count": 16,
     "metadata": {},
     "output_type": "execute_result"
    }
   ],
   "source": [
    "gdf_fixed = geoplanar.fix_npe_edges(gdf)\n",
    "geoplanar.non_planar_edges(gdf_fixed)"
   ]
  },
  {
   "cell_type": "markdown",
   "id": "4d4db96a-cd93-4d7b-bf4f-ab9d33484553",
   "metadata": {},
   "source": [
    "## Default is to work on a copy"
   ]
  },
  {
   "cell_type": "code",
   "execution_count": 17,
   "id": "2bc30575-a441-4c11-8d25-df958c90a170",
   "metadata": {},
   "outputs": [
    {
     "data": {
      "text/plain": [
       "defaultdict(set, {0: {1}})"
      ]
     },
     "execution_count": 17,
     "metadata": {},
     "output_type": "execute_result"
    }
   ],
   "source": [
    "geoplanar.non_planar_edges(gdf)"
   ]
  },
  {
   "cell_type": "code",
   "execution_count": 18,
   "id": "a02a8a45-1227-4aa3-aff8-8641ba08a4ae",
   "metadata": {},
   "outputs": [],
   "source": [
    "geoplanar.fix_npe_edges(gdf, inplace=True) \n"
   ]
  },
  {
   "cell_type": "code",
   "execution_count": 19,
   "id": "c414fc8b-06f5-4dc0-9d91-6ae477953e7c",
   "metadata": {},
   "outputs": [
    {
     "data": {
      "text/plain": [
       "defaultdict(set, {})"
      ]
     },
     "execution_count": 19,
     "metadata": {},
     "output_type": "execute_result"
    }
   ],
   "source": [
    "geoplanar.non_planar_edges(gdf)"
   ]
  },
  {
   "cell_type": "code",
   "execution_count": 20,
   "id": "c2f4c1d7-ea97-4385-a0e2-0fb195a38fd4",
   "metadata": {},
   "outputs": [
    {
     "data": {
      "text/plain": [
       "{0: [1], 1: [0]}"
      ]
     },
     "execution_count": 20,
     "metadata": {},
     "output_type": "execute_result"
    }
   ],
   "source": [
    "w = libpysal.weights.Queen.from_dataframe(gdf)\n",
    "w.neighbors"
   ]
  }
 ],
 "metadata": {
  "kernelspec": {
   "display_name": "Python 3",
   "language": "python",
   "name": "python3"
  },
  "language_info": {
   "codemirror_mode": {
    "name": "ipython",
    "version": 3
   },
   "file_extension": ".py",
   "mimetype": "text/x-python",
   "name": "python",
   "nbconvert_exporter": "python",
   "pygments_lexer": "ipython3",
   "version": "3.8.10"
  }
 },
 "nbformat": 4,
 "nbformat_minor": 5
}
