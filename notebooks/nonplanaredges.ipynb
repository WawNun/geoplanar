{
 "cells": [
  {
   "cell_type": "code",
   "execution_count": 1,
   "id": "mature-adolescent",
   "metadata": {},
   "outputs": [],
   "source": [
    "import geopandas\n",
    "import numpy\n",
    "import matplotlib.pyplot as plt\n",
    "import geoplanar\n",
    "import libpysal\n",
    "from shapely.geometry import Polygon\n"
   ]
  },
  {
   "cell_type": "markdown",
   "id": "liable-labor",
   "metadata": {},
   "source": [
    "## Planar Enforcement Violation: non-planar enforced edges"
   ]
  },
  {
   "cell_type": "code",
   "execution_count": 2,
   "id": "through-cologne",
   "metadata": {},
   "outputs": [
    {
     "data": {
      "image/png": "[encoded data removed]",
      "text/plain": [
       "<Figure size 432x288 with 1 Axes>"
      ]
     },
     "metadata": {
      "needs_background": "light"
     },
     "output_type": "display_data"
    }
   ],
   "source": [
    "c1 = [[0,0], [0, 10], [10, 10], [10, 0], [0, 0]]\n",
    "p1 = Polygon(c1)\n",
    "c2 = [[10, 2], [10, 8], [20, 8], [20, 2], [10, 2]]\n",
    "p2 = Polygon(c2)\n",
    "gdf = geopandas.GeoDataFrame(geometry=[p1, p2])\n",
    "base = gdf.plot(edgecolor='k', facecolor=\"none\",alpha=0.5)\n",
    "c1 = numpy.array(c1)\n",
    "c2 = numpy.array(c2)\n",
    "_ = base.scatter(c1[:,0], c1[:,1])\n",
    "_ =base.scatter(c2[:,0], c2[:,1])\n",
    "\n"
   ]
  },
  {
   "cell_type": "markdown",
   "id": "threaded-concord",
   "metadata": {},
   "source": [
    "The two polygons are visually contiguous, but are not planar enforced as the right edge of the left polygon  and the left edge of right polygon  share no vertices. This will result in the two polygons not being Queen neighbors, since a necessary (and sufficient) condition for the latter is at least one shared vertex."
   ]
  },
  {
   "cell_type": "code",
   "execution_count": 3,
   "id": "finished-november",
   "metadata": {},
   "outputs": [
    {
     "name": "stderr",
     "output_type": "stream",
     "text": [
      "/home/serge/Dropbox/p/pysal/src/subpackages/libpysal/libpysal/weights/weights.py:172: UserWarning: The weights matrix is not fully connected: \n",
      " There are 2 disconnected components.\n",
      " There are 2 islands with ids: 0, 1.\n",
      "  warnings.warn(message)\n"
     ]
    }
   ],
   "source": [
    "w = libpysal.weights.Queen.from_dataframe(gdf)"
   ]
  },
  {
   "cell_type": "markdown",
   "id": "collected-chemical",
   "metadata": {},
   "source": [
    "## Detecting nonplanar edges"
   ]
  },
  {
   "cell_type": "markdown",
   "id": "familiar-steel",
   "metadata": {},
   "source": [
    "`geoplanar` can detect and report nonplanar edges:"
   ]
  },
  {
   "cell_type": "code",
   "execution_count": 4,
   "id": "heated-eugene",
   "metadata": {},
   "outputs": [
    {
     "data": {
      "text/plain": [
       "defaultdict(set, {0: {1}})"
      ]
     },
     "execution_count": 4,
     "metadata": {},
     "output_type": "execute_result"
    }
   ],
   "source": [
    "geoplanar.non_planar_edges(gdf)"
   ]
  },
  {
   "cell_type": "markdown",
   "id": "casual-specific",
   "metadata": {},
   "source": [
    "## Fixing nonplanar edges"
   ]
  },
  {
   "cell_type": "code",
   "execution_count": 5,
   "id": "better-stability",
   "metadata": {},
   "outputs": [],
   "source": [
    "gdf1 = geoplanar.fix_npe_edges(gdf)"
   ]
  },
  {
   "cell_type": "code",
   "execution_count": 6,
   "id": "above-packet",
   "metadata": {},
   "outputs": [
    {
     "data": {
      "text/plain": [
       "defaultdict(set, {})"
      ]
     },
     "execution_count": 6,
     "metadata": {},
     "output_type": "execute_result"
    }
   ],
   "source": [
    "geoplanar.non_planar_edges(gdf1)"
   ]
  },
  {
   "cell_type": "code",
   "execution_count": 7,
   "id": "hungarian-wagon",
   "metadata": {},
   "outputs": [
    {
     "data": {
      "text/plain": [
       "{0: [1], 1: [0]}"
      ]
     },
     "execution_count": 7,
     "metadata": {},
     "output_type": "execute_result"
    }
   ],
   "source": [
    "w1 = libpysal.weights.Queen.from_dataframe(gdf1)\n",
    "w1.neighbors"
   ]
  },
  {
   "cell_type": "markdown",
   "id": "buried-conversation",
   "metadata": {},
   "source": [
    "## Planar Enforcement Violation: Overlapping and non-planar enforced edges"
   ]
  },
  {
   "cell_type": "code",
   "execution_count": 8,
   "id": "tracked-assumption",
   "metadata": {},
   "outputs": [],
   "source": [
    "from shapely.geometry import Polygon"
   ]
  },
  {
   "cell_type": "code",
   "execution_count": 9,
   "id": "particular-incentive",
   "metadata": {},
   "outputs": [],
   "source": [
    "\n",
    "t1 = Polygon([[0,0],[10,10], [20,0]])"
   ]
  },
  {
   "cell_type": "code",
   "execution_count": 10,
   "id": "measured-reviewer",
   "metadata": {},
   "outputs": [
    {
     "data": {
      "image/svg+xml": [
       "<svg xmlns=\"http://www.w3.org/2000/svg\" xmlns:xlink=\"http://www.w3.org/1999/xlink\" width=\"100.0\" height=\"100.0\" viewBox=\"-0.8 -0.8 21.6 11.600000000000001\" preserveAspectRatio=\"xMinYMin meet\"><g transform=\"matrix(1,0,0,-1,0,10.0)\"><path fill-rule=\"evenodd\" fill=\"#66cc99\" stroke=\"#555555\" stroke-width=\"0.43200000000000005\" opacity=\"0.6\" d=\"M 0.0,0.0 L 10.0,10.0 L 20.0,0.0 L 0.0,0.0 z\" /></g></svg>"
      ],
      "text/plain": [
       "<shapely.geometry.polygon.Polygon at 0x7f7a9e1eab50>"
      ]
     },
     "execution_count": 10,
     "metadata": {},
     "output_type": "execute_result"
    }
   ],
   "source": [
    "t1"
   ]
  },
  {
   "cell_type": "code",
   "execution_count": 11,
   "id": "dynamic-appearance",
   "metadata": {},
   "outputs": [
    {
     "data": {
      "image/svg+xml": [
       "<svg xmlns=\"http://www.w3.org/2000/svg\" xmlns:xlink=\"http://www.w3.org/1999/xlink\" width=\"100.0\" height=\"100.0\" viewBox=\"-0.8 -10.8 21.6 16.6\" preserveAspectRatio=\"xMinYMin meet\"><g transform=\"matrix(1,0,0,-1,0,-5.000000000000001)\"><path fill-rule=\"evenodd\" fill=\"#66cc99\" stroke=\"#555555\" stroke-width=\"0.43200000000000005\" opacity=\"0.6\" d=\"M 5.0,5.0 L 20.0,5.0 L 20.0,-10.0 L 0.0,-10.0 L 5.0,5.0 z\" /></g></svg>"
      ],
      "text/plain": [
       "<shapely.geometry.polygon.Polygon at 0x7f7a9e1fe750>"
      ]
     },
     "execution_count": 11,
     "metadata": {},
     "output_type": "execute_result"
    }
   ],
   "source": [
    "b1 = Polygon([[5,5], [20,5], [20,-10], [0,-10]])\n",
    "b1"
   ]
  },
  {
   "cell_type": "code",
   "execution_count": 12,
   "id": "herbal-despite",
   "metadata": {},
   "outputs": [],
   "source": [
    "gdf = geopandas.GeoDataFrame(geometry=[t1,b1])"
   ]
  },
  {
   "cell_type": "code",
   "execution_count": 13,
   "id": "juvenile-pitch",
   "metadata": {},
   "outputs": [
    {
     "data": {
      "text/plain": [
       "<matplotlib.axes._subplots.AxesSubplot at 0x7f7a9e2035d0>"
      ]
     },
     "execution_count": 13,
     "metadata": {},
     "output_type": "execute_result"
    },
    {
     "data": {
      "image/png": "[encoded data removed]",
      "text/plain": [
       "<Figure size 432x288 with 1 Axes>"
      ]
     },
     "metadata": {
      "needs_background": "light"
     },
     "output_type": "display_data"
    }
   ],
   "source": [
    "gdf.plot(edgecolor='k',facecolor=\"none\",alpha=0.5) # non planar enforcement\n"
   ]
  },
  {
   "cell_type": "markdown",
   "id": "subject-database",
   "metadata": {},
   "source": [
    "The two features overlap and would appear to share vertices, but they in fact do not share vertices. Again, because this violates planar enforncement, this results in two polygons not being Queen neighbors:"
   ]
  },
  {
   "cell_type": "code",
   "execution_count": 14,
   "id": "convenient-sound",
   "metadata": {},
   "outputs": [
    {
     "name": "stderr",
     "output_type": "stream",
     "text": [
      "/home/serge/Dropbox/p/pysal/src/subpackages/libpysal/libpysal/weights/weights.py:172: UserWarning: The weights matrix is not fully connected: \n",
      " There are 2 disconnected components.\n",
      " There are 2 islands with ids: 0, 1.\n",
      "  warnings.warn(message)\n"
     ]
    }
   ],
   "source": [
    "import libpysal\n",
    "\n",
    "w = libpysal.weights.Queen.from_dataframe(gdf)"
   ]
  },
  {
   "cell_type": "markdown",
   "id": "compact-northwest",
   "metadata": {},
   "source": [
    "## Detecting nonplanar edges"
   ]
  },
  {
   "cell_type": "markdown",
   "id": "known-machine",
   "metadata": {},
   "source": [
    "`geoplanar` will use a failed contiguity check as part of a check for nonplanar enforced edges in the polygons of a geoseries:"
   ]
  },
  {
   "cell_type": "code",
   "execution_count": 15,
   "id": "freelance-latest",
   "metadata": {},
   "outputs": [
    {
     "data": {
      "text/plain": [
       "defaultdict(set, {0: {1}})"
      ]
     },
     "execution_count": 15,
     "metadata": {},
     "output_type": "execute_result"
    }
   ],
   "source": [
    "geoplanar.non_planar_edges(gdf)"
   ]
  },
  {
   "cell_type": "markdown",
   "id": "leading-andorra",
   "metadata": {},
   "source": [
    "## Correcting nonplanar edges"
   ]
  },
  {
   "cell_type": "code",
   "execution_count": 16,
   "id": "nonprofit-booking",
   "metadata": {},
   "outputs": [
    {
     "data": {
      "text/plain": [
       "defaultdict(set, {})"
      ]
     },
     "execution_count": 16,
     "metadata": {},
     "output_type": "execute_result"
    }
   ],
   "source": [
    "gdf_fixed = geoplanar.fix_npe_edges(gdf)\n",
    "geoplanar.non_planar_edges(gdf_fixed)"
   ]
  },
  {
   "cell_type": "markdown",
   "id": "sunset-intervention",
   "metadata": {},
   "source": [
    "## Default is to work on a copy"
   ]
  },
  {
   "cell_type": "code",
   "execution_count": 17,
   "id": "extreme-ethiopia",
   "metadata": {},
   "outputs": [
    {
     "data": {
      "text/plain": [
       "defaultdict(set, {0: {1}})"
      ]
     },
     "execution_count": 17,
     "metadata": {},
     "output_type": "execute_result"
    }
   ],
   "source": [
    "geoplanar.non_planar_edges(gdf)"
   ]
  },
  {
   "cell_type": "code",
   "execution_count": 18,
   "id": "structured-probe",
   "metadata": {},
   "outputs": [
    {
     "data": {
      "text/html": [
       "<div>\n",
       "<style scoped>\n",
       "    .dataframe tbody tr th:only-of-type {\n",
       "        vertical-align: middle;\n",
       "    }\n",
       "\n",
       "    .dataframe tbody tr th {\n",
       "        vertical-align: top;\n",
       "    }\n",
       "\n",
       "    .dataframe thead th {\n",
       "        text-align: right;\n",
       "    }\n",
       "</style>\n",
       "<table border=\"1\" class=\"dataframe\">\n",
       "  <thead>\n",
       "    <tr style=\"text-align: right;\">\n",
       "      <th></th>\n",
       "      <th>geometry</th>\n",
       "    </tr>\n",
       "  </thead>\n",
       "  <tbody>\n",
       "    <tr>\n",
       "      <th>0</th>\n",
       "      <td>POLYGON ((0.00000 0.00000, 5.00000 5.00000, 10...</td>\n",
       "    </tr>\n",
       "    <tr>\n",
       "      <th>1</th>\n",
       "      <td>POLYGON ((5.00000 5.00000, 15.00000 5.00000, 2...</td>\n",
       "    </tr>\n",
       "  </tbody>\n",
       "</table>\n",
       "</div>"
      ],
      "text/plain": [
       "                                            geometry\n",
       "0  POLYGON ((0.00000 0.00000, 5.00000 5.00000, 10...\n",
       "1  POLYGON ((5.00000 5.00000, 15.00000 5.00000, 2..."
      ]
     },
     "execution_count": 18,
     "metadata": {},
     "output_type": "execute_result"
    }
   ],
   "source": [
    "geoplanar.fix_npe_edges(gdf, inplace=True) \n"
   ]
  },
  {
   "cell_type": "code",
   "execution_count": 19,
   "id": "talented-clause",
   "metadata": {},
   "outputs": [
    {
     "data": {
      "text/plain": [
       "defaultdict(set, {})"
      ]
     },
     "execution_count": 19,
     "metadata": {},
     "output_type": "execute_result"
    }
   ],
   "source": [
    "geoplanar.non_planar_edges(gdf)"
   ]
  },
  {
   "cell_type": "code",
   "execution_count": 20,
   "id": "younger-kitchen",
   "metadata": {},
   "outputs": [
    {
     "data": {
      "text/plain": [
       "{0: [1], 1: [0]}"
      ]
     },
     "execution_count": 20,
     "metadata": {},
     "output_type": "execute_result"
    }
   ],
   "source": [
    "w = libpysal.weights.Queen.from_dataframe(gdf)\n",
    "w.neighbors"
   ]
  }
 ],
 "metadata": {
  "kernelspec": {
   "display_name": "Python 3",
   "language": "python",
   "name": "python3"
  },
  "language_info": {
   "codemirror_mode": {
    "name": "ipython",
    "version": 3
   },
   "file_extension": ".py",
   "mimetype": "text/x-python",
   "name": "python",
   "nbconvert_exporter": "python",
   "pygments_lexer": "ipython3",
   "version": "3.7.9"
  }
 },
 "nbformat": 4,
 "nbformat_minor": 5
}
